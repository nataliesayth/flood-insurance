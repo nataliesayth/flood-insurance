{
 "cells": [
  {
   "cell_type": "code",
   "execution_count": 1,
   "id": "e431d059-244c-44a7-b7f7-de51df6fab96",
   "metadata": {},
   "outputs": [],
   "source": [
    "import requests\n",
    "from datetime import datetime\n",
    "import duckdb\n",
    "import pandas as pd\n",
    "import numpy as np\n",
    "import matplotlib.pyplot as plt\n",
    "import seaborn as sns\n",
    "import geopandas as gpd\n",
    "import folium\n",
    "import re\n",
    "from sklearn.model_selection import train_test_split\n",
    "from sklearn.preprocessing import StandardScaler, OneHotEncoder, MinMaxScaler\n",
    "from sklearn.compose import ColumnTransformer\n",
    "from sklearn.pipeline import Pipeline\n",
    "from sklearn.ensemble import RandomForestClassifier\n",
    "from sklearn.metrics import classification_report, accuracy_score\n",
    "from sklearn.impute import SimpleImputer\n",
    "from sklearn.metrics import confusion_matrix"
   ]
  },
  {
   "cell_type": "markdown",
   "id": "15a87930-3386-40ac-965a-951010200e9a",
   "metadata": {},
   "source": [
    "## FIMA NFIP Redacted Claims - v2 dataset, FEMA\n",
    "“FIMA NFIP Redacted Claims - v2 | FEMA.gov.” 2023b. Www.fema.gov. \n",
    "    July 5, 2023. https://www.fema.gov/openfema-data-page/fima-nfip-redacted-claims-v2.\n",
    "\n",
    "Congress passed the National Flood Insurance Act (NFIA), 42 U.S.C. 4001 in 1968, creating the National Flood Insurance Program (NFIP) in order to reduce future flood losses through flood hazard identification, floodplain management, and providing insurance protection. The Department of Housing and Urban Development (HUD) originally administered the NFIP, and Congress subsequently transferred the NFIP to FEMA upon its creation in 1979. FEMA and insurance companies participating in FEMA's Write Your Own (WYO) program offer NFIP insurance coverage for building structures as well as for contents and personal property within the building structures to eligible and insurable properties. The WYO program began in 1983 with NFIP operating under Part B of the NFIA and allows FEMA to authorize private insurance companies to issue the Standard Flood Insurance Policy (SFIP) as FEMA's fiduciary and fiscal agent. FEMA administers NFIP by ensuring insurance applications are processed properly; determining correct premiums; renewing, reforming, and cancelling insurance policies; transferring policies from the seller of the property to the purchaser of the property in certain circumstances; and processing insurance claims.\n",
    "\n",
    "The paid premiums of SFIPs and claims payments for damaged property are processed through the National Flood Insurance Fund (NFIF). NFIF was established by the National Flood Insurance Act of 1968 (42 U.S.C. 4001, et seq.), and is a centralized premium revenue and fee-generated fund that supports NFIP, which holds these U.S. Treasury funds.\n",
    "\n",
    "This dataset provides details on NFIP claims transactions. It is derived from the NFIP system of record, staged in the NFIP reporting platform and redacted to protect policy holder personally identifiable information.\n",
    "\n",
    "The Flood Insurance Claims Manual (https://nfipservices.floodsmart.gov/insurance-manuals) provides claims guidance to WYOs, vendors, adjusters, and examiners so that policyholders experience consistent and reliable service. The Manual provides processes for handling claims from the notice of loss to final payment. The NFIP has provided answers to Frequently Asked Questions (FAQs) to assist the public in understanding and navigating the data our program makes available: https://www.fema.gov/sites/default/files/documents/fema_nfip-data-faq record.\n",
    "\n",
    "This dataset is not intended to be an official federal report, and should not be considered an official federal report.\n",
    "\n",
    "FEMA's terms and conditions and citation requirements for datasets (API usage or file downloads) can be found on the OpenFEMA Terms and Conditions page: https://www.fema.gov/about/openfema/terms-conditions."
   ]
  },
  {
   "cell_type": "code",
   "execution_count": 3,
   "id": "583a682d-7dde-4b50-b667-70ce1b6918b4",
   "metadata": {},
   "outputs": [
    {
     "name": "stdout",
     "output_type": "stream",
     "text": [
      "File downloaded successfully.\n"
     ]
    }
   ],
   "source": [
    "# Set the url variable as the NFIP claims url\n",
    "url = 'https://www.fema.gov/about/reports-and-data/openfema/FimaNfipClaims.csv'\n",
    "\n",
    "# Send a get request for the url, name the response variable\n",
    "response = requests.get(url)\n",
    "\n",
    "# Check if get request request (response) was successful (status code 200)\n",
    "if response.status_code == 200:\n",
    "    \n",
    "    # Specify the file path to save the downloaded file\n",
    "    file_path = 'FimaNfipClaims.csv'\n",
    "    \n",
    "    # Write the content of the response to a file\n",
    "    with open(file_path, 'wb') as file:\n",
    "        file.write(response.content)\n",
    "    print('File downloaded successfully.')\n",
    "    \n",
    "else:\n",
    "    print('Failed to download file.')"
   ]
  },
  {
   "cell_type": "code",
   "execution_count": 5,
   "id": "647a8f9e-5732-4dcb-b1d7-f487bff80811",
   "metadata": {},
   "outputs": [],
   "source": [
    "# Read the full file, create a variable.\n",
    "# I've been dividing my dataframes by state, but just in case I want the full thing, it's accessible.\n",
    "# Given the size of these files, I usually read them with low_memory set to False.\n",
    "\n",
    "nfip_all = pd.read_csv('FimaNfipClaims.csv', low_memory = False)"
   ]
  },
  {
   "cell_type": "code",
   "execution_count": 7,
   "id": "93f035aa-6e8d-4120-a339-c3be913a65ef",
   "metadata": {},
   "outputs": [
    {
     "data": {
      "text/plain": [
       "array(['FL'], dtype=object)"
      ]
     },
     "execution_count": 7,
     "metadata": {},
     "output_type": "execute_result"
    }
   ],
   "source": [
    "# This was my first time with the nfip dataset, so before I even filtered by state, I decided to check out what national data since 2016 looked like.\n",
    "# As I was culling my dataframe, I simplified the variable name\n",
    "\n",
    "nfip = nfip_all[nfip_all['yearOfLoss'] > 2016]\n",
    "\n",
    "# At this point I decided to filter for Florida, as I was interested particularly in data reflective of climate change.\n",
    "\n",
    "# Filter for Fla. data only.\n",
    "# And just to be sure I didn't overlook something in my filter coding, I check the unique values in the state column.\n",
    "\n",
    "nfip = nfip[nfip['state'] == 'FL']\n",
    "nfip.state.unique()"
   ]
  },
  {
   "cell_type": "code",
   "execution_count": 9,
   "id": "634b9056-0186-48c7-a1cc-ebd46cb537db",
   "metadata": {},
   "outputs": [
    {
     "data": {
      "text/plain": [
       "Index(['agricultureStructureIndicator', 'asOfDate',\n",
       "       'basementEnclosureCrawlspaceType', 'policyCount',\n",
       "       'crsClassificationCode', 'dateOfLoss', 'elevatedBuildingIndicator',\n",
       "       'elevationCertificateIndicator', 'elevationDifference',\n",
       "       'baseFloodElevation', 'ratedFloodZone', 'houseWorship',\n",
       "       'locationOfContents', 'lowestAdjacentGrade', 'lowestFloorElevation',\n",
       "       'numberOfFloorsInTheInsuredBuilding', 'nonProfitIndicator',\n",
       "       'obstructionType', 'occupancyType', 'originalConstructionDate',\n",
       "       'originalNBDate', 'amountPaidOnBuildingClaim',\n",
       "       'amountPaidOnContentsClaim',\n",
       "       'amountPaidOnIncreasedCostOfComplianceClaim',\n",
       "       'postFIRMConstructionIndicator', 'rateMethod',\n",
       "       'smallBusinessIndicatorBuilding', 'totalBuildingInsuranceCoverage',\n",
       "       'totalContentsInsuranceCoverage', 'yearOfLoss',\n",
       "       'primaryResidenceIndicator', 'buildingDamageAmount',\n",
       "       'buildingDeductibleCode', 'netBuildingPaymentAmount',\n",
       "       'buildingPropertyValue', 'causeOfDamage', 'condominiumCoverageTypeCode',\n",
       "       'contentsDamageAmount', 'contentsDeductibleCode',\n",
       "       'netContentsPaymentAmount', 'contentsPropertyValue',\n",
       "       'disasterAssistanceCoverageRequired', 'eventDesignationNumber',\n",
       "       'ficoNumber', 'floodCharacteristicsIndicator', 'floodWaterDuration',\n",
       "       'floodproofedIndicator', 'floodEvent', 'iccCoverage',\n",
       "       'netIccPaymentAmount', 'nfipRatedCommunityNumber',\n",
       "       'nfipCommunityNumberCurrent', 'nfipCommunityName',\n",
       "       'nonPaymentReasonContents', 'nonPaymentReasonBuilding', 'numberOfUnits',\n",
       "       'buildingReplacementCost', 'contentsReplacementCost',\n",
       "       'replacementCostBasis', 'stateOwnedIndicator', 'waterDepth',\n",
       "       'floodZoneCurrent', 'buildingDescriptionCode',\n",
       "       'rentalPropertyIndicator', 'state', 'reportedCity', 'reportedZipCode',\n",
       "       'countyCode', 'censusTract', 'censusBlockGroupFips', 'latitude',\n",
       "       'longitude', 'id'],\n",
       "      dtype='object')"
      ]
     },
     "execution_count": 9,
     "metadata": {},
     "output_type": "execute_result"
    }
   ],
   "source": [
    "# Nice! Only Florida claims. (At least according to the 'state' column.)\n",
    "# I decided to check the columns first to drop what I knew I wouldn't need.\n",
    "\n",
    "nfip.columns"
   ]
  },
  {
   "cell_type": "code",
   "execution_count": 11,
   "id": "1bfed2c4-51a2-4de6-9e20-2679c6207c58",
   "metadata": {},
   "outputs": [
    {
     "data": {
      "text/plain": [
       "(188403, 64)"
      ]
     },
     "execution_count": 11,
     "metadata": {},
     "output_type": "execute_result"
    }
   ],
   "source": [
    "# This data cleaning was for a school project with specific needs. I knew I wouldn't need these fields.\n",
    "\n",
    "columns_to_drop = [\n",
    "    'asOfDate', 'reportedCity', 'reportedZipCode', 'amountPaidOnIncreasedCostOfComplianceClaim', 'rateMethod', 'ficoNumber','latitude', 'longitude', 'id'\n",
    "]\n",
    "\n",
    "nfip = nfip.drop(columns = columns_to_drop)\n",
    "\n",
    "# Check shape\n",
    "nfip.shape"
   ]
  },
  {
   "cell_type": "code",
   "execution_count": 13,
   "id": "f287f85c-51ec-49d2-8844-2a5a72708466",
   "metadata": {},
   "outputs": [],
   "source": [
    "# Now I prep a dictionary of Florida counties for the county_name column I'll make\n",
    "\n",
    "florida_county_map = {\n",
    "    '12001': 'Alachua',\n",
    "    '12003': 'Baker',\n",
    "    '12005': 'Bay',\n",
    "    '12005': 'Bay',\n",
    "    '12007': 'Bradford',\n",
    "    '12009': 'Brevard',\n",
    "    '12011': 'Broward',\n",
    "    '12013': 'Calhoun',\n",
    "    '12015': 'Charlotte',\n",
    "    '12017': 'Citrus',\n",
    "    '12019': 'Clay',\n",
    "    '12021': 'Collier',\n",
    "    '12023': 'Columbia',\n",
    "    '12025': 'Dade',\n",
    "    '12027': 'DeSoto',\n",
    "    '12029': 'Dixie',\n",
    "    '12031': 'Duval',\n",
    "    '12033': 'Escambia',\n",
    "    '12035': 'Flagler',\n",
    "    '12037': 'Franklin',\n",
    "    '12039': 'Gadsden',\n",
    "    '12041': 'Gilchrist',\n",
    "    '12043': 'Glades',\n",
    "    '12045': 'Gulf',\n",
    "    '12047': 'Hamilton',\n",
    "    '12049': 'Hardee',\n",
    "    '12051': 'Hendry',\n",
    "    '12053': 'Hernando',\n",
    "    '12055': 'Highlands',\n",
    "    '12057': 'Hillsborough',\n",
    "    '12059': 'Holmes',\n",
    "    '12061': 'Indian River',\n",
    "    '12063': 'Jackson',\n",
    "    '12065': 'Jefferson',\n",
    "    '12067': 'Lafayette',\n",
    "    '12069': 'Lake',\n",
    "    '12071': 'Lee',\n",
    "    '12073': 'Leon',\n",
    "    '12075': 'Levy',\n",
    "    '12077': 'Liberty',\n",
    "    '12079': 'Madison',\n",
    "    '12081': 'Manatee',\n",
    "    '12083': 'Marion',\n",
    "    '12085': 'Martin',\n",
    "    '12086': 'Miami Dade',\n",
    "    '12087': 'Monroe',\n",
    "    '12089': 'Nassau',\n",
    "    '12091': 'Okaloosa',\n",
    "    '12093': 'Okeechobee',\n",
    "    '12095': 'Orange',\n",
    "    '12097': 'Osceola',\n",
    "    '12099': 'Palm Beach',\n",
    "    '12101': 'Pasco',\n",
    "    '12103': 'Pinellas',\n",
    "    '12105': 'Polk',\n",
    "    '12107': 'Putnam',\n",
    "    '12109': 'St. Johns',\n",
    "    '12111': 'St. Lucie',\n",
    "    '12113': 'Santa Rosa',\n",
    "    '12115': 'Sarasota',\n",
    "    '12117': 'Seminole',\n",
    "    '12119': 'Sumter',\n",
    "    '12121': 'Suwannee',\n",
    "    '12123': 'Taylor',\n",
    "    '12125': 'Union',\n",
    "    '12127': 'Volusia',\n",
    "    '12129': 'Wakulla',\n",
    "    '12131': 'Walton',\n",
    "    '12133': 'Washington'\n",
    "}"
   ]
  },
  {
   "cell_type": "code",
   "execution_count": 15,
   "id": "a425d57c-9c98-4e60-9591-3e0db129a131",
   "metadata": {},
   "outputs": [
    {
     "data": {
      "text/plain": [
       "7          12021.0\n",
       "10         12086.0\n",
       "11         12021.0\n",
       "12         12081.0\n",
       "13         12021.0\n",
       "            ...   \n",
       "1128013    12011.0\n",
       "1128060    12011.0\n",
       "1128217    12087.0\n",
       "1135986    12031.0\n",
       "1156291    12011.0\n",
       "Name: countyCode, Length: 188403, dtype: float64"
      ]
     },
     "execution_count": 15,
     "metadata": {},
     "output_type": "execute_result"
    }
   ],
   "source": [
    "# Create the new column and get a look at how the FIPS codes are formatted\n",
    "\n",
    "nfip['county_name'] = ''\n",
    "nfip.countyCode"
   ]
  },
  {
   "cell_type": "code",
   "execution_count": 17,
   "id": "023c5f51-d995-4f4a-9afd-23b55aacdfb8",
   "metadata": {},
   "outputs": [],
   "source": [
    "# First I convert the FIPS codes from floats to strings\n",
    "\n",
    "nfip['countyCode'] = nfip['countyCode'].astype(str)"
   ]
  },
  {
   "cell_type": "code",
   "execution_count": 19,
   "id": "a94c2f52-57f9-4ac7-bf1c-f8b4b5be18b7",
   "metadata": {},
   "outputs": [],
   "source": [
    "# Then I get rid of the '.0' at the end of each string value\n",
    "\n",
    "nfip['countyCode'] = nfip['countyCode'].apply(lambda x: x.replace('.0', '') if isinstance(x, str) and x.endswith('.0') else x)"
   ]
  },
  {
   "cell_type": "code",
   "execution_count": 21,
   "id": "1216ff78-5b13-40c6-a4e6-003f50bbd2dd",
   "metadata": {},
   "outputs": [
    {
     "data": {
      "text/html": [
       "<div>\n",
       "<style scoped>\n",
       "    .dataframe tbody tr th:only-of-type {\n",
       "        vertical-align: middle;\n",
       "    }\n",
       "\n",
       "    .dataframe tbody tr th {\n",
       "        vertical-align: top;\n",
       "    }\n",
       "\n",
       "    .dataframe thead th {\n",
       "        text-align: right;\n",
       "    }\n",
       "</style>\n",
       "<table border=\"1\" class=\"dataframe\">\n",
       "  <thead>\n",
       "    <tr style=\"text-align: right;\">\n",
       "      <th></th>\n",
       "      <th>agricultureStructureIndicator</th>\n",
       "      <th>basementEnclosureCrawlspaceType</th>\n",
       "      <th>policyCount</th>\n",
       "      <th>crsClassificationCode</th>\n",
       "      <th>dateOfLoss</th>\n",
       "      <th>elevatedBuildingIndicator</th>\n",
       "      <th>elevationCertificateIndicator</th>\n",
       "      <th>elevationDifference</th>\n",
       "      <th>baseFloodElevation</th>\n",
       "      <th>ratedFloodZone</th>\n",
       "      <th>...</th>\n",
       "      <th>stateOwnedIndicator</th>\n",
       "      <th>waterDepth</th>\n",
       "      <th>floodZoneCurrent</th>\n",
       "      <th>buildingDescriptionCode</th>\n",
       "      <th>rentalPropertyIndicator</th>\n",
       "      <th>state</th>\n",
       "      <th>countyCode</th>\n",
       "      <th>censusTract</th>\n",
       "      <th>censusBlockGroupFips</th>\n",
       "      <th>county_name</th>\n",
       "    </tr>\n",
       "  </thead>\n",
       "  <tbody>\n",
       "    <tr>\n",
       "      <th>7</th>\n",
       "      <td>0</td>\n",
       "      <td>0.0</td>\n",
       "      <td>1</td>\n",
       "      <td>NaN</td>\n",
       "      <td>2017-09-10T00:00:00.000Z</td>\n",
       "      <td>1</td>\n",
       "      <td>2</td>\n",
       "      <td>NaN</td>\n",
       "      <td>NaN</td>\n",
       "      <td>VE</td>\n",
       "      <td>...</td>\n",
       "      <td>0</td>\n",
       "      <td>1.0</td>\n",
       "      <td>NaN</td>\n",
       "      <td>1.0</td>\n",
       "      <td>0</td>\n",
       "      <td>FL</td>\n",
       "      <td>12021</td>\n",
       "      <td>1.202101e+10</td>\n",
       "      <td>1.202101e+11</td>\n",
       "      <td>Collier</td>\n",
       "    </tr>\n",
       "    <tr>\n",
       "      <th>10</th>\n",
       "      <td>0</td>\n",
       "      <td>0.0</td>\n",
       "      <td>1</td>\n",
       "      <td>NaN</td>\n",
       "      <td>2020-05-26T00:00:00.000Z</td>\n",
       "      <td>1</td>\n",
       "      <td>NaN</td>\n",
       "      <td>1.0</td>\n",
       "      <td>7.0</td>\n",
       "      <td>AH</td>\n",
       "      <td>...</td>\n",
       "      <td>0</td>\n",
       "      <td>0.0</td>\n",
       "      <td>AHB</td>\n",
       "      <td>1.0</td>\n",
       "      <td>0</td>\n",
       "      <td>FL</td>\n",
       "      <td>12086</td>\n",
       "      <td>1.208600e+10</td>\n",
       "      <td>1.208600e+11</td>\n",
       "      <td>Miami Dade</td>\n",
       "    </tr>\n",
       "    <tr>\n",
       "      <th>11</th>\n",
       "      <td>0</td>\n",
       "      <td>0.0</td>\n",
       "      <td>1</td>\n",
       "      <td>NaN</td>\n",
       "      <td>2017-09-11T00:00:00.000Z</td>\n",
       "      <td>0</td>\n",
       "      <td>NaN</td>\n",
       "      <td>NaN</td>\n",
       "      <td>NaN</td>\n",
       "      <td>AH</td>\n",
       "      <td>...</td>\n",
       "      <td>0</td>\n",
       "      <td>0.0</td>\n",
       "      <td>NaN</td>\n",
       "      <td>1.0</td>\n",
       "      <td>0</td>\n",
       "      <td>FL</td>\n",
       "      <td>12021</td>\n",
       "      <td>1.202101e+10</td>\n",
       "      <td>1.202101e+11</td>\n",
       "      <td>Collier</td>\n",
       "    </tr>\n",
       "    <tr>\n",
       "      <th>12</th>\n",
       "      <td>0</td>\n",
       "      <td>0.0</td>\n",
       "      <td>1</td>\n",
       "      <td>NaN</td>\n",
       "      <td>2020-11-11T00:00:00.000Z</td>\n",
       "      <td>1</td>\n",
       "      <td>NaN</td>\n",
       "      <td>5.0</td>\n",
       "      <td>9.0</td>\n",
       "      <td>AE</td>\n",
       "      <td>...</td>\n",
       "      <td>0</td>\n",
       "      <td>0.0</td>\n",
       "      <td>NaN</td>\n",
       "      <td>1.0</td>\n",
       "      <td>0</td>\n",
       "      <td>FL</td>\n",
       "      <td>12081</td>\n",
       "      <td>1.208100e+10</td>\n",
       "      <td>1.208100e+11</td>\n",
       "      <td>Manatee</td>\n",
       "    </tr>\n",
       "    <tr>\n",
       "      <th>13</th>\n",
       "      <td>0</td>\n",
       "      <td>0.0</td>\n",
       "      <td>1</td>\n",
       "      <td>NaN</td>\n",
       "      <td>2022-09-27T00:00:00.000Z</td>\n",
       "      <td>1</td>\n",
       "      <td>NaN</td>\n",
       "      <td>NaN</td>\n",
       "      <td>NaN</td>\n",
       "      <td>AE</td>\n",
       "      <td>...</td>\n",
       "      <td>0</td>\n",
       "      <td>0.0</td>\n",
       "      <td>NaN</td>\n",
       "      <td>NaN</td>\n",
       "      <td>0</td>\n",
       "      <td>FL</td>\n",
       "      <td>12021</td>\n",
       "      <td>1.202101e+10</td>\n",
       "      <td>1.202101e+11</td>\n",
       "      <td>Collier</td>\n",
       "    </tr>\n",
       "  </tbody>\n",
       "</table>\n",
       "<p>5 rows × 65 columns</p>\n",
       "</div>"
      ],
      "text/plain": [
       "    agricultureStructureIndicator  basementEnclosureCrawlspaceType  \\\n",
       "7                               0                              0.0   \n",
       "10                              0                              0.0   \n",
       "11                              0                              0.0   \n",
       "12                              0                              0.0   \n",
       "13                              0                              0.0   \n",
       "\n",
       "    policyCount  crsClassificationCode                dateOfLoss  \\\n",
       "7             1                    NaN  2017-09-10T00:00:00.000Z   \n",
       "10            1                    NaN  2020-05-26T00:00:00.000Z   \n",
       "11            1                    NaN  2017-09-11T00:00:00.000Z   \n",
       "12            1                    NaN  2020-11-11T00:00:00.000Z   \n",
       "13            1                    NaN  2022-09-27T00:00:00.000Z   \n",
       "\n",
       "    elevatedBuildingIndicator elevationCertificateIndicator  \\\n",
       "7                           1                             2   \n",
       "10                          1                           NaN   \n",
       "11                          0                           NaN   \n",
       "12                          1                           NaN   \n",
       "13                          1                           NaN   \n",
       "\n",
       "    elevationDifference  baseFloodElevation ratedFloodZone  ...  \\\n",
       "7                   NaN                 NaN             VE  ...   \n",
       "10                  1.0                 7.0             AH  ...   \n",
       "11                  NaN                 NaN             AH  ...   \n",
       "12                  5.0                 9.0             AE  ...   \n",
       "13                  NaN                 NaN             AE  ...   \n",
       "\n",
       "    stateOwnedIndicator  waterDepth  floodZoneCurrent  \\\n",
       "7                     0         1.0               NaN   \n",
       "10                    0         0.0               AHB   \n",
       "11                    0         0.0               NaN   \n",
       "12                    0         0.0               NaN   \n",
       "13                    0         0.0               NaN   \n",
       "\n",
       "    buildingDescriptionCode  rentalPropertyIndicator  state  countyCode  \\\n",
       "7                       1.0                        0     FL       12021   \n",
       "10                      1.0                        0     FL       12086   \n",
       "11                      1.0                        0     FL       12021   \n",
       "12                      1.0                        0     FL       12081   \n",
       "13                      NaN                        0     FL       12021   \n",
       "\n",
       "     censusTract censusBlockGroupFips county_name  \n",
       "7   1.202101e+10         1.202101e+11     Collier  \n",
       "10  1.208600e+10         1.208600e+11  Miami Dade  \n",
       "11  1.202101e+10         1.202101e+11     Collier  \n",
       "12  1.208100e+10         1.208100e+11     Manatee  \n",
       "13  1.202101e+10         1.202101e+11     Collier  \n",
       "\n",
       "[5 rows x 65 columns]"
      ]
     },
     "execution_count": 21,
     "metadata": {},
     "output_type": "execute_result"
    }
   ],
   "source": [
    "# Now I can use my Florida county dictionary to apply county names in my new column based on existing FIPS\n",
    "\n",
    "nfip['county_name'] = nfip.apply(\n",
    "    lambda row: florida_county_map.get(row['countyCode'], row['county_name']),\n",
    "    axis = 1\n",
    ")\n",
    "\n",
    "# Preview what the dataset looks like now\n",
    "nfip.head()"
   ]
  },
  {
   "cell_type": "code",
   "execution_count": 23,
   "id": "ad26f234-d9ce-4932-a964-ac6b3869ca19",
   "metadata": {},
   "outputs": [
    {
     "data": {
      "text/plain": [
       "Index(['agriculture_structure_indicator', 'basement_enclosure_crawlspace_type',\n",
       "       'policy_count', 'crs_classification_code', 'date_of_loss',\n",
       "       'elevated_building_indicator', 'elevation_certificate_indicator',\n",
       "       'elevation_difference', 'base_flood_elevation', 'rated_flood_zone',\n",
       "       'house_worship', 'location_of_contents', 'lowest_adjacent_grade',\n",
       "       'lowest_floor_elevation', 'number_of_floors_in_the_insured_building',\n",
       "       'non_profit_indicator', 'obstruction_type', 'occupancy_type',\n",
       "       'original_construction_date', 'original_n_b_date',\n",
       "       'amount_paid_on_building_claim', 'amount_paid_on_contents_claim',\n",
       "       'post_f_i_r_m_construction_indicator',\n",
       "       'small_business_indicator_building',\n",
       "       'total_building_insurance_coverage',\n",
       "       'total_contents_insurance_coverage', 'year_of_loss',\n",
       "       'primary_residence_indicator', 'building_damage_amount',\n",
       "       'building_deductible_code', 'net_building_payment_amount',\n",
       "       'building_property_value', 'cause_of_damage',\n",
       "       'condominium_coverage_type_code', 'contents_damage_amount',\n",
       "       'contents_deductible_code', 'net_contents_payment_amount',\n",
       "       'contents_property_value', 'disaster_assistance_coverage_required',\n",
       "       'event_designation_number', 'flood_characteristics_indicator',\n",
       "       'flood_water_duration', 'floodproofed_indicator', 'flood_event',\n",
       "       'icc_coverage', 'net_icc_payment_amount', 'nfip_rated_community_number',\n",
       "       'nfip_community_number_current', 'nfip_community_name',\n",
       "       'non_payment_reason_contents', 'non_payment_reason_building',\n",
       "       'number_of_units', 'building_replacement_cost',\n",
       "       'contents_replacement_cost', 'replacement_cost_basis',\n",
       "       'state_owned_indicator', 'water_depth', 'flood_zone_current',\n",
       "       'building_description_code', 'rental_property_indicator', 'state',\n",
       "       'county_code', 'census_tract', 'census_block_group_fips',\n",
       "       'county_name'],\n",
       "      dtype='object')"
      ]
     },
     "execution_count": 23,
     "metadata": {},
     "output_type": "execute_result"
    }
   ],
   "source": [
    "# Not bad. Now let's change the camelCase column names to snake_case.\n",
    "# Aesthetically I'm more into camelCase than snake_case, but once I load this in Tableau,\n",
    "# Tableau recognizes underscores should be spaces, which in turn makes camelCase look messy.\n",
    "\n",
    "def camel_to_snake(name):\n",
    "    return re.sub(r'(?<!^)(?=[A-Z])', '_', name).lower()\n",
    "\n",
    "nfip.columns = [camel_to_snake(col) for col in nfip.columns]\n",
    "\n",
    "# As always, check how the columns come out.\n",
    "nfip.columns"
   ]
  },
  {
   "cell_type": "code",
   "execution_count": 25,
   "id": "84cef5a2-771e-44c2-bbbc-34bcb1df861e",
   "metadata": {},
   "outputs": [],
   "source": [
    "# Now create the columns where I can combine building and contents values\n",
    "\n",
    "nfip['total_damage'] = ''\n",
    "nfip['total_coverage'] = ''\n",
    "nfip['total_payment'] = ''"
   ]
  },
  {
   "cell_type": "code",
   "execution_count": 27,
   "id": "5ce9d893-22a3-4f87-b367-690422cda27f",
   "metadata": {},
   "outputs": [],
   "source": [
    "# First I concatenate damage, from building and contents, making sure to account for nulls\n",
    "\n",
    "nfip['total_damage'] = nfip['building_damage_amount'].fillna(0) + nfip['contents_damage_amount'].fillna(0)"
   ]
  },
  {
   "cell_type": "code",
   "execution_count": 29,
   "id": "db6f322a-ec55-4ede-8ab8-b474b0a11412",
   "metadata": {},
   "outputs": [
    {
     "data": {
      "text/plain": [
       "7       2396.0\n",
       "10      4560.0\n",
       "11         0.0\n",
       "12      2536.0\n",
       "13     14227.0\n",
       "14         0.0\n",
       "49         0.0\n",
       "50      4761.0\n",
       "51    398735.0\n",
       "52         0.0\n",
       "Name: total_damage, dtype: float64"
      ]
     },
     "execution_count": 29,
     "metadata": {},
     "output_type": "execute_result"
    }
   ],
   "source": [
    "# I want to get a preview of what I've just made, just to check that I didn't overlook something obvious.\n",
    "\n",
    "nfip.total_damage.head(10)"
   ]
  },
  {
   "cell_type": "code",
   "execution_count": 31,
   "id": "f6501410-ba42-4da0-98ae-6a51711fbbfa",
   "metadata": {},
   "outputs": [
    {
     "data": {
      "text/plain": [
       "7     300000.0\n",
       "10    271100.0\n",
       "11    350000.0\n",
       "12     13000.0\n",
       "13     25700.0\n",
       "14      8500.0\n",
       "49    350000.0\n",
       "50    210000.0\n",
       "51    350000.0\n",
       "52    350000.0\n",
       "Name: total_coverage, dtype: float64"
      ]
     },
     "execution_count": 31,
     "metadata": {},
     "output_type": "execute_result"
    }
   ],
   "source": [
    "# Good! (BTS fact: The first few times I did this, I didn't get a series of numbers that looked this correct.)\n",
    "# Then I do coverage.\n",
    "\n",
    "nfip['total_coverage'] = nfip['total_contents_insurance_coverage'].fillna(0) + nfip['total_building_insurance_coverage'].fillna(0)\n",
    "\n",
    "# And just so I don't get cocky, let's check what that column looks like.\n",
    "nfip.total_coverage.head(10)"
   ]
  },
  {
   "cell_type": "code",
   "execution_count": 33,
   "id": "80be9ef3-7889-47c9-afb0-63f73f81ce16",
   "metadata": {},
   "outputs": [
    {
     "data": {
      "text/plain": [
       "7          0.00\n",
       "10         0.00\n",
       "11         0.00\n",
       "12       603.39\n",
       "13      9802.74\n",
       "14         0.00\n",
       "49         0.00\n",
       "50      8586.18\n",
       "51    350000.00\n",
       "52         0.00\n",
       "Name: total_payment, dtype: float64"
      ]
     },
     "execution_count": 33,
     "metadata": {},
     "output_type": "execute_result"
    }
   ],
   "source": [
    "# Looking good.\n",
    "# Now net payments. For the purposes of this project, I call this sum \"total_payment\".\n",
    "\n",
    "nfip['total_payment'] = nfip['net_building_payment_amount'].fillna(0) + nfip['net_contents_payment_amount'].fillna(0)\n",
    "nfip.total_payment.head(10)"
   ]
  },
  {
   "cell_type": "code",
   "execution_count": 35,
   "id": "68c89026-404a-4fac-85b5-e974f5e059ae",
   "metadata": {},
   "outputs": [],
   "source": [
    "# I'm curious about any gap between damage and payment. The lower the value (ideally zero!, maybe sometimes negative), the better off the policy holders are.\n",
    "# Positive values mean the policy holders didn't get enough money to cover the damage they suffered.\n",
    "\n",
    "nfip['damage_diff_payment'] = nfip['total_damage'] - nfip['total_payment']"
   ]
  },
  {
   "cell_type": "code",
   "execution_count": 37,
   "id": "e9dbfcea-320f-4156-9f58-b68ec7913537",
   "metadata": {},
   "outputs": [
    {
     "data": {
      "text/html": [
       "<div>\n",
       "<style scoped>\n",
       "    .dataframe tbody tr th:only-of-type {\n",
       "        vertical-align: middle;\n",
       "    }\n",
       "\n",
       "    .dataframe tbody tr th {\n",
       "        vertical-align: top;\n",
       "    }\n",
       "\n",
       "    .dataframe thead th {\n",
       "        text-align: right;\n",
       "    }\n",
       "</style>\n",
       "<table border=\"1\" class=\"dataframe\">\n",
       "  <thead>\n",
       "    <tr style=\"text-align: right;\">\n",
       "      <th></th>\n",
       "      <th>agriculture_structure_indicator</th>\n",
       "      <th>basement_enclosure_crawlspace_type</th>\n",
       "      <th>policy_count</th>\n",
       "      <th>crs_classification_code</th>\n",
       "      <th>date_of_loss</th>\n",
       "      <th>elevated_building_indicator</th>\n",
       "      <th>elevation_certificate_indicator</th>\n",
       "      <th>elevation_difference</th>\n",
       "      <th>base_flood_elevation</th>\n",
       "      <th>rated_flood_zone</th>\n",
       "      <th>...</th>\n",
       "      <th>state</th>\n",
       "      <th>county_code</th>\n",
       "      <th>census_tract</th>\n",
       "      <th>census_block_group_fips</th>\n",
       "      <th>county_name</th>\n",
       "      <th>total_damage</th>\n",
       "      <th>total_coverage</th>\n",
       "      <th>total_payment</th>\n",
       "      <th>damage_diff_payment</th>\n",
       "      <th>damage_diff_coverage</th>\n",
       "    </tr>\n",
       "  </thead>\n",
       "  <tbody>\n",
       "    <tr>\n",
       "      <th>7</th>\n",
       "      <td>0</td>\n",
       "      <td>0.0</td>\n",
       "      <td>1</td>\n",
       "      <td>NaN</td>\n",
       "      <td>2017-09-10T00:00:00.000Z</td>\n",
       "      <td>1</td>\n",
       "      <td>2</td>\n",
       "      <td>NaN</td>\n",
       "      <td>NaN</td>\n",
       "      <td>VE</td>\n",
       "      <td>...</td>\n",
       "      <td>FL</td>\n",
       "      <td>12021</td>\n",
       "      <td>1.202101e+10</td>\n",
       "      <td>1.202101e+11</td>\n",
       "      <td>Collier</td>\n",
       "      <td>2396.0</td>\n",
       "      <td>300000.0</td>\n",
       "      <td>0.00</td>\n",
       "      <td>2396.00</td>\n",
       "      <td>-297604.0</td>\n",
       "    </tr>\n",
       "    <tr>\n",
       "      <th>10</th>\n",
       "      <td>0</td>\n",
       "      <td>0.0</td>\n",
       "      <td>1</td>\n",
       "      <td>NaN</td>\n",
       "      <td>2020-05-26T00:00:00.000Z</td>\n",
       "      <td>1</td>\n",
       "      <td>NaN</td>\n",
       "      <td>1.0</td>\n",
       "      <td>7.0</td>\n",
       "      <td>AH</td>\n",
       "      <td>...</td>\n",
       "      <td>FL</td>\n",
       "      <td>12086</td>\n",
       "      <td>1.208600e+10</td>\n",
       "      <td>1.208600e+11</td>\n",
       "      <td>Miami Dade</td>\n",
       "      <td>4560.0</td>\n",
       "      <td>271100.0</td>\n",
       "      <td>0.00</td>\n",
       "      <td>4560.00</td>\n",
       "      <td>-266540.0</td>\n",
       "    </tr>\n",
       "    <tr>\n",
       "      <th>11</th>\n",
       "      <td>0</td>\n",
       "      <td>0.0</td>\n",
       "      <td>1</td>\n",
       "      <td>NaN</td>\n",
       "      <td>2017-09-11T00:00:00.000Z</td>\n",
       "      <td>0</td>\n",
       "      <td>NaN</td>\n",
       "      <td>NaN</td>\n",
       "      <td>NaN</td>\n",
       "      <td>AH</td>\n",
       "      <td>...</td>\n",
       "      <td>FL</td>\n",
       "      <td>12021</td>\n",
       "      <td>1.202101e+10</td>\n",
       "      <td>1.202101e+11</td>\n",
       "      <td>Collier</td>\n",
       "      <td>0.0</td>\n",
       "      <td>350000.0</td>\n",
       "      <td>0.00</td>\n",
       "      <td>0.00</td>\n",
       "      <td>-350000.0</td>\n",
       "    </tr>\n",
       "    <tr>\n",
       "      <th>12</th>\n",
       "      <td>0</td>\n",
       "      <td>0.0</td>\n",
       "      <td>1</td>\n",
       "      <td>NaN</td>\n",
       "      <td>2020-11-11T00:00:00.000Z</td>\n",
       "      <td>1</td>\n",
       "      <td>NaN</td>\n",
       "      <td>5.0</td>\n",
       "      <td>9.0</td>\n",
       "      <td>AE</td>\n",
       "      <td>...</td>\n",
       "      <td>FL</td>\n",
       "      <td>12081</td>\n",
       "      <td>1.208100e+10</td>\n",
       "      <td>1.208100e+11</td>\n",
       "      <td>Manatee</td>\n",
       "      <td>2536.0</td>\n",
       "      <td>13000.0</td>\n",
       "      <td>603.39</td>\n",
       "      <td>1932.61</td>\n",
       "      <td>-10464.0</td>\n",
       "    </tr>\n",
       "    <tr>\n",
       "      <th>13</th>\n",
       "      <td>0</td>\n",
       "      <td>0.0</td>\n",
       "      <td>1</td>\n",
       "      <td>NaN</td>\n",
       "      <td>2022-09-27T00:00:00.000Z</td>\n",
       "      <td>1</td>\n",
       "      <td>NaN</td>\n",
       "      <td>NaN</td>\n",
       "      <td>NaN</td>\n",
       "      <td>AE</td>\n",
       "      <td>...</td>\n",
       "      <td>FL</td>\n",
       "      <td>12021</td>\n",
       "      <td>1.202101e+10</td>\n",
       "      <td>1.202101e+11</td>\n",
       "      <td>Collier</td>\n",
       "      <td>14227.0</td>\n",
       "      <td>25700.0</td>\n",
       "      <td>9802.74</td>\n",
       "      <td>4424.26</td>\n",
       "      <td>-11473.0</td>\n",
       "    </tr>\n",
       "  </tbody>\n",
       "</table>\n",
       "<p>5 rows × 70 columns</p>\n",
       "</div>"
      ],
      "text/plain": [
       "    agriculture_structure_indicator  basement_enclosure_crawlspace_type  \\\n",
       "7                                 0                                 0.0   \n",
       "10                                0                                 0.0   \n",
       "11                                0                                 0.0   \n",
       "12                                0                                 0.0   \n",
       "13                                0                                 0.0   \n",
       "\n",
       "    policy_count  crs_classification_code              date_of_loss  \\\n",
       "7              1                      NaN  2017-09-10T00:00:00.000Z   \n",
       "10             1                      NaN  2020-05-26T00:00:00.000Z   \n",
       "11             1                      NaN  2017-09-11T00:00:00.000Z   \n",
       "12             1                      NaN  2020-11-11T00:00:00.000Z   \n",
       "13             1                      NaN  2022-09-27T00:00:00.000Z   \n",
       "\n",
       "    elevated_building_indicator elevation_certificate_indicator  \\\n",
       "7                             1                               2   \n",
       "10                            1                             NaN   \n",
       "11                            0                             NaN   \n",
       "12                            1                             NaN   \n",
       "13                            1                             NaN   \n",
       "\n",
       "    elevation_difference  base_flood_elevation rated_flood_zone  ...  state  \\\n",
       "7                    NaN                   NaN               VE  ...     FL   \n",
       "10                   1.0                   7.0               AH  ...     FL   \n",
       "11                   NaN                   NaN               AH  ...     FL   \n",
       "12                   5.0                   9.0               AE  ...     FL   \n",
       "13                   NaN                   NaN               AE  ...     FL   \n",
       "\n",
       "    county_code  census_tract  census_block_group_fips  county_name  \\\n",
       "7         12021  1.202101e+10             1.202101e+11      Collier   \n",
       "10        12086  1.208600e+10             1.208600e+11   Miami Dade   \n",
       "11        12021  1.202101e+10             1.202101e+11      Collier   \n",
       "12        12081  1.208100e+10             1.208100e+11      Manatee   \n",
       "13        12021  1.202101e+10             1.202101e+11      Collier   \n",
       "\n",
       "    total_damage  total_coverage  total_payment damage_diff_payment  \\\n",
       "7         2396.0        300000.0           0.00             2396.00   \n",
       "10        4560.0        271100.0           0.00             4560.00   \n",
       "11           0.0        350000.0           0.00                0.00   \n",
       "12        2536.0         13000.0         603.39             1932.61   \n",
       "13       14227.0         25700.0        9802.74             4424.26   \n",
       "\n",
       "   damage_diff_coverage  \n",
       "7             -297604.0  \n",
       "10            -266540.0  \n",
       "11            -350000.0  \n",
       "12             -10464.0  \n",
       "13             -11473.0  \n",
       "\n",
       "[5 rows x 70 columns]"
      ]
     },
     "execution_count": 37,
     "metadata": {},
     "output_type": "execute_result"
    }
   ],
   "source": [
    "# Do the same check between damage and coverage \n",
    "\n",
    "nfip['damage_diff_coverage'] = nfip['total_damage'] - nfip['total_coverage']\n",
    "\n",
    "# And check how this is calculating in my dataframe\n",
    "nfip.head()"
   ]
  },
  {
   "cell_type": "code",
   "execution_count": 39,
   "id": "38526d1f-4704-4c42-ae5d-a2e557ab2a5b",
   "metadata": {},
   "outputs": [
    {
     "data": {
      "text/plain": [
       "(188403, 70)"
      ]
     },
     "execution_count": 39,
     "metadata": {},
     "output_type": "execute_result"
    }
   ],
   "source": [
    "# How's my shape looking?\n",
    "\n",
    "nfip.shape"
   ]
  },
  {
   "cell_type": "code",
   "execution_count": 41,
   "id": "e1c6eb98-81b8-4774-be69-eb4e8997a96a",
   "metadata": {},
   "outputs": [
    {
     "data": {
      "text/plain": [
       "(141980, 70)"
      ]
     },
     "execution_count": 41,
     "metadata": {},
     "output_type": "execute_result"
    }
   ],
   "source": [
    "# Seems like a lot of rows.\n",
    "# For this project, building damage is a crucial metric. I may as well exclude any claims that didn't collect that.\n",
    "\n",
    "nfip.dropna(subset = ['building_damage_amount'], inplace = True)\n",
    "nfip.shape"
   ]
  },
  {
   "cell_type": "code",
   "execution_count": 43,
   "id": "e05217b8-357a-4678-ba34-cefad828e717",
   "metadata": {},
   "outputs": [
    {
     "data": {
      "text/plain": [
       "(141980, 70)"
      ]
     },
     "execution_count": 43,
     "metadata": {},
     "output_type": "execute_result"
    }
   ],
   "source": [
    "# That knocked off a chunk.\n",
    "# Same goes for building coverage.\n",
    "\n",
    "nfip.dropna(subset = ['total_building_insurance_coverage'], inplace = True)\n",
    "\n",
    "nfip.shape"
   ]
  },
  {
   "cell_type": "code",
   "execution_count": 45,
   "id": "6423e95c-f698-48cd-8509-69bdaa78fe5a",
   "metadata": {},
   "outputs": [
    {
     "data": {
      "text/plain": [
       "(87298, 70)"
      ]
     },
     "execution_count": 45,
     "metadata": {},
     "output_type": "execute_result"
    }
   ],
   "source": [
    "# Huh. I guess coverage and damage covered the same nulls.\n",
    "\n",
    "# Contents damage values are also important to my analysis. I wonder how much getting rid of those nulls would eliminate.\n",
    "\n",
    "nfip.dropna(subset = ['contents_damage_amount'], inplace = True)\n",
    "nfip.shape"
   ]
  },
  {
   "cell_type": "code",
   "execution_count": 47,
   "id": "e812dd5a-ffbb-4331-bd2b-cd6fe8c25c63",
   "metadata": {},
   "outputs": [
    {
     "data": {
      "text/plain": [
       "Index(['agriculture_structure_indicator', 'basement_enclosure_crawlspace_type',\n",
       "       'policy_count', 'crs_classification_code', 'date_of_loss',\n",
       "       'elevated_building_indicator', 'elevation_certificate_indicator',\n",
       "       'elevation_difference', 'base_flood_elevation', 'rated_flood_zone',\n",
       "       'house_worship', 'location_of_contents', 'lowest_adjacent_grade',\n",
       "       'lowest_floor_elevation', 'number_of_floors_in_the_insured_building',\n",
       "       'non_profit_indicator', 'obstruction_type', 'occupancy_type',\n",
       "       'original_construction_date', 'original_n_b_date',\n",
       "       'amount_paid_on_building_claim', 'amount_paid_on_contents_claim',\n",
       "       'post_f_i_r_m_construction_indicator',\n",
       "       'small_business_indicator_building',\n",
       "       'total_building_insurance_coverage',\n",
       "       'total_contents_insurance_coverage', 'year_of_loss',\n",
       "       'primary_residence_indicator', 'building_damage_amount',\n",
       "       'building_deductible_code', 'net_building_payment_amount',\n",
       "       'building_property_value', 'cause_of_damage',\n",
       "       'condominium_coverage_type_code', 'contents_damage_amount',\n",
       "       'contents_deductible_code', 'net_contents_payment_amount',\n",
       "       'contents_property_value', 'disaster_assistance_coverage_required',\n",
       "       'event_designation_number', 'flood_characteristics_indicator',\n",
       "       'flood_water_duration', 'floodproofed_indicator', 'flood_event',\n",
       "       'icc_coverage', 'net_icc_payment_amount', 'nfip_rated_community_number',\n",
       "       'nfip_community_number_current', 'nfip_community_name',\n",
       "       'non_payment_reason_contents', 'non_payment_reason_building',\n",
       "       'number_of_units', 'building_replacement_cost',\n",
       "       'contents_replacement_cost', 'replacement_cost_basis',\n",
       "       'state_owned_indicator', 'water_depth', 'flood_zone_current',\n",
       "       'building_description_code', 'rental_property_indicator', 'state',\n",
       "       'county_code', 'census_tract', 'census_block_group_fips', 'county_name',\n",
       "       'total_damage', 'total_coverage', 'total_payment',\n",
       "       'damage_diff_payment', 'damage_diff_coverage'],\n",
       "      dtype='object')"
      ]
     },
     "execution_count": 47,
     "metadata": {},
     "output_type": "execute_result"
    }
   ],
   "source": [
    "# Wow. That's a pretty good shape for this project.\n",
    "# I'm going to check the columns one more time before I save it as a .csv\n",
    "\n",
    "nfip.columns"
   ]
  },
  {
   "cell_type": "code",
   "execution_count": 49,
   "id": "f14a9790-1dec-40d8-8b8b-9f823e4ae053",
   "metadata": {},
   "outputs": [],
   "source": [
    "# I tend to save these by state, so I'll specify FL in the file name.\n",
    "\n",
    "nfip.to_csv('nfip_florida.csv', index = False)"
   ]
  },
  {
   "cell_type": "markdown",
   "id": "93a8fc59-139f-43b9-ba93-304ea740f30b",
   "metadata": {},
   "source": [
    "## Predictive Modeling"
   ]
  },
  {
   "cell_type": "markdown",
   "id": "184ccb17-7e26-4d88-84fd-67d615115af8",
   "metadata": {},
   "source": [
    "### Will flood insurance coverage be insufficient to cover flood damage?"
   ]
  },
  {
   "cell_type": "markdown",
   "id": "ddc68a68-9e51-4868-824d-47803e9437f6",
   "metadata": {},
   "source": [
    "**Objective:** Predict whether damage_diff_coverage is positive."
   ]
  },
  {
   "cell_type": "markdown",
   "id": "2e0b71ab-d755-4f2a-a875-81f48ba470f1",
   "metadata": {},
   "source": [
    "**Target Variable:** damage_diff_coverage > 0"
   ]
  },
  {
   "cell_type": "markdown",
   "id": "c8e63841-bbaa-4234-95f2-7e9fd1278363",
   "metadata": {},
   "source": [
    "**Feature Selection:** Exclude irrelevant or redundant columns."
   ]
  },
  {
   "cell_type": "markdown",
   "id": "aebe7853-072b-485b-9465-d03d5dd0bcce",
   "metadata": {},
   "source": [
    "**Handle Missing Values:** Impute or drop rows/columns with missing data."
   ]
  },
  {
   "cell_type": "markdown",
   "id": "7284d9d4-5b95-4f86-9d2b-c54bd6b8bd6b",
   "metadata": {},
   "source": [
    "**Categorical Encoding:** Convert categorical columns to numeric format."
   ]
  },
  {
   "cell_type": "markdown",
   "id": "957c80ab-b969-44df-afb9-a54e99be19e9",
   "metadata": {},
   "source": [
    "**Feature Scaling:** Standardize or normalize numeric features for better model performance."
   ]
  },
  {
   "cell_type": "markdown",
   "id": "c7d7588f-dc05-4676-9cee-8873e05ab9d3",
   "metadata": {},
   "source": [
    "**Train-Test Split:** Split the data into training and testing sets."
   ]
  },
  {
   "cell_type": "code",
   "execution_count": 51,
   "id": "62beb884-2495-4d83-beb6-3d8500f7e8a9",
   "metadata": {},
   "outputs": [],
   "source": [
    "# First I'll set my target variable\n",
    "\n",
    "nfip['coverage_insufficient'] = (nfip['damage_diff_coverage'] > 0).astype(int)"
   ]
  },
  {
   "cell_type": "code",
   "execution_count": 53,
   "id": "d30cb02d-3344-4e31-b0c9-503d9bdd266a",
   "metadata": {},
   "outputs": [
    {
     "data": {
      "text/plain": [
       "coverage_insufficient\n",
       "0    94.50732\n",
       "1     5.49268\n",
       "Name: proportion, dtype: float64"
      ]
     },
     "execution_count": 53,
     "metadata": {},
     "output_type": "execute_result"
    }
   ],
   "source": [
    "# And check what the split is\n",
    "\n",
    "nfip['coverage_insufficient'].value_counts(normalize = True) * 100"
   ]
  },
  {
   "cell_type": "code",
   "execution_count": 55,
   "id": "3e846a33-39a2-4efb-b62f-5243c413c312",
   "metadata": {},
   "outputs": [],
   "source": [
    "# Good news for FLorida homeowners; most people who suffered flood damage (at least according to the NFIP database) are sufficiently covered.\n",
    "# But 5% of 78K people is still worth improving.\n",
    "\n",
    "# Next in the predictive modeling process, I'll select my features.\n",
    "# For this preliminary run, I'm going to be pretty inclusive, and just disregard redundant or target-related columns.\n",
    "\n",
    "target = 'coverage_insufficient'\n",
    "exclude_columns = ['damage_diff_coverage', 'total_payment', 'total_damage', 'total_coverage']\n",
    "features = [col for col in nfip.columns if col not in exclude_columns + [target]]"
   ]
  },
  {
   "cell_type": "code",
   "execution_count": 57,
   "id": "6b902567-6d03-4763-bbf0-92d378d37cb5",
   "metadata": {},
   "outputs": [],
   "source": [
    "# Now we'll train-test split\n",
    "\n",
    "X = nfip[features]\n",
    "y = nfip[target]\n",
    "X_train, X_test, y_train, y_test = train_test_split(X, y, test_size = 0.2, random_state = 42, stratify = y) # my dataset is pretty unbalanced, and my teacher taught me to stratify in such cases"
   ]
  },
  {
   "cell_type": "code",
   "execution_count": 59,
   "id": "1ae64059-043e-49a4-a3c3-d03eaca90a71",
   "metadata": {},
   "outputs": [],
   "source": [
    "# Next, I'll ID categorical and numeric columns\n",
    "\n",
    "categorical_cols = X.select_dtypes(include = ['object']).columns\n",
    "numeric_cols = X.select_dtypes(include = ['float64', 'int64']).columns"
   ]
  },
  {
   "cell_type": "code",
   "execution_count": 61,
   "id": "a2a6348f-9166-447d-807a-9039aa552eff",
   "metadata": {},
   "outputs": [],
   "source": [
    "# Prime the preprocessing pipeline\n",
    "\n",
    "preprocessor = ColumnTransformer(\n",
    "    transformers=[\n",
    "        ('num', StandardScaler(), numeric_cols),\n",
    "        ('cat', OneHotEncoder(handle_unknown='ignore'), categorical_cols)\n",
    "    ]\n",
    ")"
   ]
  },
  {
   "cell_type": "code",
   "execution_count": 63,
   "id": "dfcf20e4-197a-4687-9118-c78ec1b1634c",
   "metadata": {},
   "outputs": [],
   "source": [
    "# Convert categorical columns to strings to avoid mixed types\n",
    "\n",
    "for col in categorical_cols:\n",
    "    nfip[col] = nfip[col].astype(str)"
   ]
  },
  {
   "cell_type": "code",
   "execution_count": 65,
   "id": "e0895b3d-6c92-4813-aacf-50e3105cad80",
   "metadata": {},
   "outputs": [],
   "source": [
    "# Fix categorical columns in both train and test sets\n",
    "\n",
    "X_train[categorical_cols] = X_train[categorical_cols].astype(str)\n",
    "X_test[categorical_cols] = X_test[categorical_cols].astype(str)"
   ]
  },
  {
   "cell_type": "code",
   "execution_count": 67,
   "id": "2adb40d7-30e5-4b7e-a249-d6c3fb95f873",
   "metadata": {},
   "outputs": [],
   "source": [
    "# OK, trying train-test split again\n",
    "\n",
    "X = nfip[features]\n",
    "y = nfip[target]\n",
    "X_train, X_test, y_train, y_test = train_test_split(X, y, test_size = 0.2, random_state = 42, stratify = y)"
   ]
  },
  {
   "cell_type": "code",
   "execution_count": 69,
   "id": "8505fc8c-7a2f-48b0-b2a6-92ddac98a88e",
   "metadata": {},
   "outputs": [],
   "source": [
    "# Checking that categorical columns are strings throughout\n",
    "# This is often where I learn some data cleaning lessons\n",
    "\n",
    "categorical_cols = X.select_dtypes(include = ['object']).columns\n",
    "X_train[categorical_cols] = X_train[categorical_cols].astype(str)\n",
    "X_test[categorical_cols] = X_test[categorical_cols].astype(str)"
   ]
  },
  {
   "cell_type": "code",
   "execution_count": 71,
   "id": "13aeea3d-29bf-43ba-ab5f-1b0dfc0af730",
   "metadata": {},
   "outputs": [],
   "source": [
    "# Once again, preprocessing!\n",
    "\n",
    "preprocessor = ColumnTransformer(\n",
    "    transformers=[\n",
    "        ('num', Pipeline([\n",
    "            ('imputer', SimpleImputer(strategy='mean')),  # Impute missing numeric values with the mean\n",
    "            ('scaler', StandardScaler())                 # Scale numeric features\n",
    "        ]), numeric_cols),\n",
    "        ('cat', Pipeline([\n",
    "            ('imputer', SimpleImputer(strategy='most_frequent')),  # Fill missing categorical values with the most frequent\n",
    "            ('encoder', OneHotEncoder(handle_unknown='ignore'))    # One-hot encode categorical variables\n",
    "        ]), categorical_cols)\n",
    "    ]\n",
    ")"
   ]
  },
  {
   "cell_type": "code",
   "execution_count": 73,
   "id": "7e5b79d6-5508-4644-aaa2-72647a6bf104",
   "metadata": {},
   "outputs": [],
   "source": [
    "# And build the pipeline. This time using RandomForestCLassifier.\n",
    "\n",
    "model = Pipeline(steps = [\n",
    "    ('preprocessor', preprocessor),\n",
    "    ('classifier', RandomForestClassifier(random_state = 42))\n",
    "])"
   ]
  },
  {
   "cell_type": "code",
   "execution_count": 75,
   "id": "134300ca-db0c-47ce-84f1-08b829656b85",
   "metadata": {},
   "outputs": [
    {
     "name": "stderr",
     "output_type": "stream",
     "text": [
      "C:\\Users\\natal\\anaconda3\\Lib\\site-packages\\sklearn\\impute\\_base.py:577: UserWarning: Skipping features without any observed values: ['flood_characteristics_indicator']. At least one non-missing value is needed for imputation with strategy='mean'.\n",
      "  warnings.warn(\n"
     ]
    },
    {
     "data": {
      "text/html": [
       "<style>#sk-container-id-1 {\n",
       "  /* Definition of color scheme common for light and dark mode */\n",
       "  --sklearn-color-text: black;\n",
       "  --sklearn-color-line: gray;\n",
       "  /* Definition of color scheme for unfitted estimators */\n",
       "  --sklearn-color-unfitted-level-0: #fff5e6;\n",
       "  --sklearn-color-unfitted-level-1: #f6e4d2;\n",
       "  --sklearn-color-unfitted-level-2: #ffe0b3;\n",
       "  --sklearn-color-unfitted-level-3: chocolate;\n",
       "  /* Definition of color scheme for fitted estimators */\n",
       "  --sklearn-color-fitted-level-0: #f0f8ff;\n",
       "  --sklearn-color-fitted-level-1: #d4ebff;\n",
       "  --sklearn-color-fitted-level-2: #b3dbfd;\n",
       "  --sklearn-color-fitted-level-3: cornflowerblue;\n",
       "\n",
       "  /* Specific color for light theme */\n",
       "  --sklearn-color-text-on-default-background: var(--sg-text-color, var(--theme-code-foreground, var(--jp-content-font-color1, black)));\n",
       "  --sklearn-color-background: var(--sg-background-color, var(--theme-background, var(--jp-layout-color0, white)));\n",
       "  --sklearn-color-border-box: var(--sg-text-color, var(--theme-code-foreground, var(--jp-content-font-color1, black)));\n",
       "  --sklearn-color-icon: #696969;\n",
       "\n",
       "  @media (prefers-color-scheme: dark) {\n",
       "    /* Redefinition of color scheme for dark theme */\n",
       "    --sklearn-color-text-on-default-background: var(--sg-text-color, var(--theme-code-foreground, var(--jp-content-font-color1, white)));\n",
       "    --sklearn-color-background: var(--sg-background-color, var(--theme-background, var(--jp-layout-color0, #111)));\n",
       "    --sklearn-color-border-box: var(--sg-text-color, var(--theme-code-foreground, var(--jp-content-font-color1, white)));\n",
       "    --sklearn-color-icon: #878787;\n",
       "  }\n",
       "}\n",
       "\n",
       "#sk-container-id-1 {\n",
       "  color: var(--sklearn-color-text);\n",
       "}\n",
       "\n",
       "#sk-container-id-1 pre {\n",
       "  padding: 0;\n",
       "}\n",
       "\n",
       "#sk-container-id-1 input.sk-hidden--visually {\n",
       "  border: 0;\n",
       "  clip: rect(1px 1px 1px 1px);\n",
       "  clip: rect(1px, 1px, 1px, 1px);\n",
       "  height: 1px;\n",
       "  margin: -1px;\n",
       "  overflow: hidden;\n",
       "  padding: 0;\n",
       "  position: absolute;\n",
       "  width: 1px;\n",
       "}\n",
       "\n",
       "#sk-container-id-1 div.sk-dashed-wrapped {\n",
       "  border: 1px dashed var(--sklearn-color-line);\n",
       "  margin: 0 0.4em 0.5em 0.4em;\n",
       "  box-sizing: border-box;\n",
       "  padding-bottom: 0.4em;\n",
       "  background-color: var(--sklearn-color-background);\n",
       "}\n",
       "\n",
       "#sk-container-id-1 div.sk-container {\n",
       "  /* jupyter's `normalize.less` sets `[hidden] { display: none; }`\n",
       "     but bootstrap.min.css set `[hidden] { display: none !important; }`\n",
       "     so we also need the `!important` here to be able to override the\n",
       "     default hidden behavior on the sphinx rendered scikit-learn.org.\n",
       "     See: https://github.com/scikit-learn/scikit-learn/issues/21755 */\n",
       "  display: inline-block !important;\n",
       "  position: relative;\n",
       "}\n",
       "\n",
       "#sk-container-id-1 div.sk-text-repr-fallback {\n",
       "  display: none;\n",
       "}\n",
       "\n",
       "div.sk-parallel-item,\n",
       "div.sk-serial,\n",
       "div.sk-item {\n",
       "  /* draw centered vertical line to link estimators */\n",
       "  background-image: linear-gradient(var(--sklearn-color-text-on-default-background), var(--sklearn-color-text-on-default-background));\n",
       "  background-size: 2px 100%;\n",
       "  background-repeat: no-repeat;\n",
       "  background-position: center center;\n",
       "}\n",
       "\n",
       "/* Parallel-specific style estimator block */\n",
       "\n",
       "#sk-container-id-1 div.sk-parallel-item::after {\n",
       "  content: \"\";\n",
       "  width: 100%;\n",
       "  border-bottom: 2px solid var(--sklearn-color-text-on-default-background);\n",
       "  flex-grow: 1;\n",
       "}\n",
       "\n",
       "#sk-container-id-1 div.sk-parallel {\n",
       "  display: flex;\n",
       "  align-items: stretch;\n",
       "  justify-content: center;\n",
       "  background-color: var(--sklearn-color-background);\n",
       "  position: relative;\n",
       "}\n",
       "\n",
       "#sk-container-id-1 div.sk-parallel-item {\n",
       "  display: flex;\n",
       "  flex-direction: column;\n",
       "}\n",
       "\n",
       "#sk-container-id-1 div.sk-parallel-item:first-child::after {\n",
       "  align-self: flex-end;\n",
       "  width: 50%;\n",
       "}\n",
       "\n",
       "#sk-container-id-1 div.sk-parallel-item:last-child::after {\n",
       "  align-self: flex-start;\n",
       "  width: 50%;\n",
       "}\n",
       "\n",
       "#sk-container-id-1 div.sk-parallel-item:only-child::after {\n",
       "  width: 0;\n",
       "}\n",
       "\n",
       "/* Serial-specific style estimator block */\n",
       "\n",
       "#sk-container-id-1 div.sk-serial {\n",
       "  display: flex;\n",
       "  flex-direction: column;\n",
       "  align-items: center;\n",
       "  background-color: var(--sklearn-color-background);\n",
       "  padding-right: 1em;\n",
       "  padding-left: 1em;\n",
       "}\n",
       "\n",
       "\n",
       "/* Toggleable style: style used for estimator/Pipeline/ColumnTransformer box that is\n",
       "clickable and can be expanded/collapsed.\n",
       "- Pipeline and ColumnTransformer use this feature and define the default style\n",
       "- Estimators will overwrite some part of the style using the `sk-estimator` class\n",
       "*/\n",
       "\n",
       "/* Pipeline and ColumnTransformer style (default) */\n",
       "\n",
       "#sk-container-id-1 div.sk-toggleable {\n",
       "  /* Default theme specific background. It is overwritten whether we have a\n",
       "  specific estimator or a Pipeline/ColumnTransformer */\n",
       "  background-color: var(--sklearn-color-background);\n",
       "}\n",
       "\n",
       "/* Toggleable label */\n",
       "#sk-container-id-1 label.sk-toggleable__label {\n",
       "  cursor: pointer;\n",
       "  display: block;\n",
       "  width: 100%;\n",
       "  margin-bottom: 0;\n",
       "  padding: 0.5em;\n",
       "  box-sizing: border-box;\n",
       "  text-align: center;\n",
       "}\n",
       "\n",
       "#sk-container-id-1 label.sk-toggleable__label-arrow:before {\n",
       "  /* Arrow on the left of the label */\n",
       "  content: \"▸\";\n",
       "  float: left;\n",
       "  margin-right: 0.25em;\n",
       "  color: var(--sklearn-color-icon);\n",
       "}\n",
       "\n",
       "#sk-container-id-1 label.sk-toggleable__label-arrow:hover:before {\n",
       "  color: var(--sklearn-color-text);\n",
       "}\n",
       "\n",
       "/* Toggleable content - dropdown */\n",
       "\n",
       "#sk-container-id-1 div.sk-toggleable__content {\n",
       "  max-height: 0;\n",
       "  max-width: 0;\n",
       "  overflow: hidden;\n",
       "  text-align: left;\n",
       "  /* unfitted */\n",
       "  background-color: var(--sklearn-color-unfitted-level-0);\n",
       "}\n",
       "\n",
       "#sk-container-id-1 div.sk-toggleable__content.fitted {\n",
       "  /* fitted */\n",
       "  background-color: var(--sklearn-color-fitted-level-0);\n",
       "}\n",
       "\n",
       "#sk-container-id-1 div.sk-toggleable__content pre {\n",
       "  margin: 0.2em;\n",
       "  border-radius: 0.25em;\n",
       "  color: var(--sklearn-color-text);\n",
       "  /* unfitted */\n",
       "  background-color: var(--sklearn-color-unfitted-level-0);\n",
       "}\n",
       "\n",
       "#sk-container-id-1 div.sk-toggleable__content.fitted pre {\n",
       "  /* unfitted */\n",
       "  background-color: var(--sklearn-color-fitted-level-0);\n",
       "}\n",
       "\n",
       "#sk-container-id-1 input.sk-toggleable__control:checked~div.sk-toggleable__content {\n",
       "  /* Expand drop-down */\n",
       "  max-height: 200px;\n",
       "  max-width: 100%;\n",
       "  overflow: auto;\n",
       "}\n",
       "\n",
       "#sk-container-id-1 input.sk-toggleable__control:checked~label.sk-toggleable__label-arrow:before {\n",
       "  content: \"▾\";\n",
       "}\n",
       "\n",
       "/* Pipeline/ColumnTransformer-specific style */\n",
       "\n",
       "#sk-container-id-1 div.sk-label input.sk-toggleable__control:checked~label.sk-toggleable__label {\n",
       "  color: var(--sklearn-color-text);\n",
       "  background-color: var(--sklearn-color-unfitted-level-2);\n",
       "}\n",
       "\n",
       "#sk-container-id-1 div.sk-label.fitted input.sk-toggleable__control:checked~label.sk-toggleable__label {\n",
       "  background-color: var(--sklearn-color-fitted-level-2);\n",
       "}\n",
       "\n",
       "/* Estimator-specific style */\n",
       "\n",
       "/* Colorize estimator box */\n",
       "#sk-container-id-1 div.sk-estimator input.sk-toggleable__control:checked~label.sk-toggleable__label {\n",
       "  /* unfitted */\n",
       "  background-color: var(--sklearn-color-unfitted-level-2);\n",
       "}\n",
       "\n",
       "#sk-container-id-1 div.sk-estimator.fitted input.sk-toggleable__control:checked~label.sk-toggleable__label {\n",
       "  /* fitted */\n",
       "  background-color: var(--sklearn-color-fitted-level-2);\n",
       "}\n",
       "\n",
       "#sk-container-id-1 div.sk-label label.sk-toggleable__label,\n",
       "#sk-container-id-1 div.sk-label label {\n",
       "  /* The background is the default theme color */\n",
       "  color: var(--sklearn-color-text-on-default-background);\n",
       "}\n",
       "\n",
       "/* On hover, darken the color of the background */\n",
       "#sk-container-id-1 div.sk-label:hover label.sk-toggleable__label {\n",
       "  color: var(--sklearn-color-text);\n",
       "  background-color: var(--sklearn-color-unfitted-level-2);\n",
       "}\n",
       "\n",
       "/* Label box, darken color on hover, fitted */\n",
       "#sk-container-id-1 div.sk-label.fitted:hover label.sk-toggleable__label.fitted {\n",
       "  color: var(--sklearn-color-text);\n",
       "  background-color: var(--sklearn-color-fitted-level-2);\n",
       "}\n",
       "\n",
       "/* Estimator label */\n",
       "\n",
       "#sk-container-id-1 div.sk-label label {\n",
       "  font-family: monospace;\n",
       "  font-weight: bold;\n",
       "  display: inline-block;\n",
       "  line-height: 1.2em;\n",
       "}\n",
       "\n",
       "#sk-container-id-1 div.sk-label-container {\n",
       "  text-align: center;\n",
       "}\n",
       "\n",
       "/* Estimator-specific */\n",
       "#sk-container-id-1 div.sk-estimator {\n",
       "  font-family: monospace;\n",
       "  border: 1px dotted var(--sklearn-color-border-box);\n",
       "  border-radius: 0.25em;\n",
       "  box-sizing: border-box;\n",
       "  margin-bottom: 0.5em;\n",
       "  /* unfitted */\n",
       "  background-color: var(--sklearn-color-unfitted-level-0);\n",
       "}\n",
       "\n",
       "#sk-container-id-1 div.sk-estimator.fitted {\n",
       "  /* fitted */\n",
       "  background-color: var(--sklearn-color-fitted-level-0);\n",
       "}\n",
       "\n",
       "/* on hover */\n",
       "#sk-container-id-1 div.sk-estimator:hover {\n",
       "  /* unfitted */\n",
       "  background-color: var(--sklearn-color-unfitted-level-2);\n",
       "}\n",
       "\n",
       "#sk-container-id-1 div.sk-estimator.fitted:hover {\n",
       "  /* fitted */\n",
       "  background-color: var(--sklearn-color-fitted-level-2);\n",
       "}\n",
       "\n",
       "/* Specification for estimator info (e.g. \"i\" and \"?\") */\n",
       "\n",
       "/* Common style for \"i\" and \"?\" */\n",
       "\n",
       ".sk-estimator-doc-link,\n",
       "a:link.sk-estimator-doc-link,\n",
       "a:visited.sk-estimator-doc-link {\n",
       "  float: right;\n",
       "  font-size: smaller;\n",
       "  line-height: 1em;\n",
       "  font-family: monospace;\n",
       "  background-color: var(--sklearn-color-background);\n",
       "  border-radius: 1em;\n",
       "  height: 1em;\n",
       "  width: 1em;\n",
       "  text-decoration: none !important;\n",
       "  margin-left: 1ex;\n",
       "  /* unfitted */\n",
       "  border: var(--sklearn-color-unfitted-level-1) 1pt solid;\n",
       "  color: var(--sklearn-color-unfitted-level-1);\n",
       "}\n",
       "\n",
       ".sk-estimator-doc-link.fitted,\n",
       "a:link.sk-estimator-doc-link.fitted,\n",
       "a:visited.sk-estimator-doc-link.fitted {\n",
       "  /* fitted */\n",
       "  border: var(--sklearn-color-fitted-level-1) 1pt solid;\n",
       "  color: var(--sklearn-color-fitted-level-1);\n",
       "}\n",
       "\n",
       "/* On hover */\n",
       "div.sk-estimator:hover .sk-estimator-doc-link:hover,\n",
       ".sk-estimator-doc-link:hover,\n",
       "div.sk-label-container:hover .sk-estimator-doc-link:hover,\n",
       ".sk-estimator-doc-link:hover {\n",
       "  /* unfitted */\n",
       "  background-color: var(--sklearn-color-unfitted-level-3);\n",
       "  color: var(--sklearn-color-background);\n",
       "  text-decoration: none;\n",
       "}\n",
       "\n",
       "div.sk-estimator.fitted:hover .sk-estimator-doc-link.fitted:hover,\n",
       ".sk-estimator-doc-link.fitted:hover,\n",
       "div.sk-label-container:hover .sk-estimator-doc-link.fitted:hover,\n",
       ".sk-estimator-doc-link.fitted:hover {\n",
       "  /* fitted */\n",
       "  background-color: var(--sklearn-color-fitted-level-3);\n",
       "  color: var(--sklearn-color-background);\n",
       "  text-decoration: none;\n",
       "}\n",
       "\n",
       "/* Span, style for the box shown on hovering the info icon */\n",
       ".sk-estimator-doc-link span {\n",
       "  display: none;\n",
       "  z-index: 9999;\n",
       "  position: relative;\n",
       "  font-weight: normal;\n",
       "  right: .2ex;\n",
       "  padding: .5ex;\n",
       "  margin: .5ex;\n",
       "  width: min-content;\n",
       "  min-width: 20ex;\n",
       "  max-width: 50ex;\n",
       "  color: var(--sklearn-color-text);\n",
       "  box-shadow: 2pt 2pt 4pt #999;\n",
       "  /* unfitted */\n",
       "  background: var(--sklearn-color-unfitted-level-0);\n",
       "  border: .5pt solid var(--sklearn-color-unfitted-level-3);\n",
       "}\n",
       "\n",
       ".sk-estimator-doc-link.fitted span {\n",
       "  /* fitted */\n",
       "  background: var(--sklearn-color-fitted-level-0);\n",
       "  border: var(--sklearn-color-fitted-level-3);\n",
       "}\n",
       "\n",
       ".sk-estimator-doc-link:hover span {\n",
       "  display: block;\n",
       "}\n",
       "\n",
       "/* \"?\"-specific style due to the `<a>` HTML tag */\n",
       "\n",
       "#sk-container-id-1 a.estimator_doc_link {\n",
       "  float: right;\n",
       "  font-size: 1rem;\n",
       "  line-height: 1em;\n",
       "  font-family: monospace;\n",
       "  background-color: var(--sklearn-color-background);\n",
       "  border-radius: 1rem;\n",
       "  height: 1rem;\n",
       "  width: 1rem;\n",
       "  text-decoration: none;\n",
       "  /* unfitted */\n",
       "  color: var(--sklearn-color-unfitted-level-1);\n",
       "  border: var(--sklearn-color-unfitted-level-1) 1pt solid;\n",
       "}\n",
       "\n",
       "#sk-container-id-1 a.estimator_doc_link.fitted {\n",
       "  /* fitted */\n",
       "  border: var(--sklearn-color-fitted-level-1) 1pt solid;\n",
       "  color: var(--sklearn-color-fitted-level-1);\n",
       "}\n",
       "\n",
       "/* On hover */\n",
       "#sk-container-id-1 a.estimator_doc_link:hover {\n",
       "  /* unfitted */\n",
       "  background-color: var(--sklearn-color-unfitted-level-3);\n",
       "  color: var(--sklearn-color-background);\n",
       "  text-decoration: none;\n",
       "}\n",
       "\n",
       "#sk-container-id-1 a.estimator_doc_link.fitted:hover {\n",
       "  /* fitted */\n",
       "  background-color: var(--sklearn-color-fitted-level-3);\n",
       "}\n",
       "</style><div id=\"sk-container-id-1\" class=\"sk-top-container\"><div class=\"sk-text-repr-fallback\"><pre>Pipeline(steps=[(&#x27;preprocessor&#x27;,\n",
       "                 ColumnTransformer(transformers=[(&#x27;num&#x27;,\n",
       "                                                  Pipeline(steps=[(&#x27;imputer&#x27;,\n",
       "                                                                   SimpleImputer()),\n",
       "                                                                  (&#x27;scaler&#x27;,\n",
       "                                                                   StandardScaler())]),\n",
       "                                                  Index([&#x27;agriculture_structure_indicator&#x27;, &#x27;basement_enclosure_crawlspace_type&#x27;,\n",
       "       &#x27;policy_count&#x27;, &#x27;crs_classification_code&#x27;,\n",
       "       &#x27;elevated_building_indicator&#x27;, &#x27;elevation_difference&#x27;,\n",
       "       &#x27;base_flood_elevation&#x27;, &#x27;house_wor...\n",
       "       &#x27;building_deductible_code&#x27;, &#x27;cause_of_damage&#x27;,\n",
       "       &#x27;condominium_coverage_type_code&#x27;, &#x27;contents_deductible_code&#x27;,\n",
       "       &#x27;event_designation_number&#x27;, &#x27;flood_event&#x27;,\n",
       "       &#x27;nfip_community_number_current&#x27;, &#x27;nfip_community_name&#x27;,\n",
       "       &#x27;replacement_cost_basis&#x27;, &#x27;flood_zone_current&#x27;, &#x27;state&#x27;, &#x27;county_code&#x27;,\n",
       "       &#x27;county_name&#x27;],\n",
       "      dtype=&#x27;object&#x27;))])),\n",
       "                (&#x27;classifier&#x27;, RandomForestClassifier(random_state=42))])</pre><b>In a Jupyter environment, please rerun this cell to show the HTML representation or trust the notebook. <br />On GitHub, the HTML representation is unable to render, please try loading this page with nbviewer.org.</b></div><div class=\"sk-container\" hidden><div class=\"sk-item sk-dashed-wrapped\"><div class=\"sk-label-container\"><div class=\"sk-label fitted sk-toggleable\"><input class=\"sk-toggleable__control sk-hidden--visually\" id=\"sk-estimator-id-1\" type=\"checkbox\" ><label for=\"sk-estimator-id-1\" class=\"sk-toggleable__label fitted sk-toggleable__label-arrow fitted\">&nbsp;&nbsp;Pipeline<a class=\"sk-estimator-doc-link fitted\" rel=\"noreferrer\" target=\"_blank\" href=\"https://scikit-learn.org/1.4/modules/generated/sklearn.pipeline.Pipeline.html\">?<span>Documentation for Pipeline</span></a><span class=\"sk-estimator-doc-link fitted\">i<span>Fitted</span></span></label><div class=\"sk-toggleable__content fitted\"><pre>Pipeline(steps=[(&#x27;preprocessor&#x27;,\n",
       "                 ColumnTransformer(transformers=[(&#x27;num&#x27;,\n",
       "                                                  Pipeline(steps=[(&#x27;imputer&#x27;,\n",
       "                                                                   SimpleImputer()),\n",
       "                                                                  (&#x27;scaler&#x27;,\n",
       "                                                                   StandardScaler())]),\n",
       "                                                  Index([&#x27;agriculture_structure_indicator&#x27;, &#x27;basement_enclosure_crawlspace_type&#x27;,\n",
       "       &#x27;policy_count&#x27;, &#x27;crs_classification_code&#x27;,\n",
       "       &#x27;elevated_building_indicator&#x27;, &#x27;elevation_difference&#x27;,\n",
       "       &#x27;base_flood_elevation&#x27;, &#x27;house_wor...\n",
       "       &#x27;building_deductible_code&#x27;, &#x27;cause_of_damage&#x27;,\n",
       "       &#x27;condominium_coverage_type_code&#x27;, &#x27;contents_deductible_code&#x27;,\n",
       "       &#x27;event_designation_number&#x27;, &#x27;flood_event&#x27;,\n",
       "       &#x27;nfip_community_number_current&#x27;, &#x27;nfip_community_name&#x27;,\n",
       "       &#x27;replacement_cost_basis&#x27;, &#x27;flood_zone_current&#x27;, &#x27;state&#x27;, &#x27;county_code&#x27;,\n",
       "       &#x27;county_name&#x27;],\n",
       "      dtype=&#x27;object&#x27;))])),\n",
       "                (&#x27;classifier&#x27;, RandomForestClassifier(random_state=42))])</pre></div> </div></div><div class=\"sk-serial\"><div class=\"sk-item sk-dashed-wrapped\"><div class=\"sk-label-container\"><div class=\"sk-label fitted sk-toggleable\"><input class=\"sk-toggleable__control sk-hidden--visually\" id=\"sk-estimator-id-2\" type=\"checkbox\" ><label for=\"sk-estimator-id-2\" class=\"sk-toggleable__label fitted sk-toggleable__label-arrow fitted\">&nbsp;preprocessor: ColumnTransformer<a class=\"sk-estimator-doc-link fitted\" rel=\"noreferrer\" target=\"_blank\" href=\"https://scikit-learn.org/1.4/modules/generated/sklearn.compose.ColumnTransformer.html\">?<span>Documentation for preprocessor: ColumnTransformer</span></a></label><div class=\"sk-toggleable__content fitted\"><pre>ColumnTransformer(transformers=[(&#x27;num&#x27;,\n",
       "                                 Pipeline(steps=[(&#x27;imputer&#x27;, SimpleImputer()),\n",
       "                                                 (&#x27;scaler&#x27;, StandardScaler())]),\n",
       "                                 Index([&#x27;agriculture_structure_indicator&#x27;, &#x27;basement_enclosure_crawlspace_type&#x27;,\n",
       "       &#x27;policy_count&#x27;, &#x27;crs_classification_code&#x27;,\n",
       "       &#x27;elevated_building_indicator&#x27;, &#x27;elevation_difference&#x27;,\n",
       "       &#x27;base_flood_elevation&#x27;, &#x27;house_worship&#x27;, &#x27;location_of_contents&#x27;,\n",
       "       &#x27;lo...\n",
       "       &#x27;original_construction_date&#x27;, &#x27;original_n_b_date&#x27;,\n",
       "       &#x27;building_deductible_code&#x27;, &#x27;cause_of_damage&#x27;,\n",
       "       &#x27;condominium_coverage_type_code&#x27;, &#x27;contents_deductible_code&#x27;,\n",
       "       &#x27;event_designation_number&#x27;, &#x27;flood_event&#x27;,\n",
       "       &#x27;nfip_community_number_current&#x27;, &#x27;nfip_community_name&#x27;,\n",
       "       &#x27;replacement_cost_basis&#x27;, &#x27;flood_zone_current&#x27;, &#x27;state&#x27;, &#x27;county_code&#x27;,\n",
       "       &#x27;county_name&#x27;],\n",
       "      dtype=&#x27;object&#x27;))])</pre></div> </div></div><div class=\"sk-parallel\"><div class=\"sk-parallel-item\"><div class=\"sk-item\"><div class=\"sk-label-container\"><div class=\"sk-label fitted sk-toggleable\"><input class=\"sk-toggleable__control sk-hidden--visually\" id=\"sk-estimator-id-3\" type=\"checkbox\" ><label for=\"sk-estimator-id-3\" class=\"sk-toggleable__label fitted sk-toggleable__label-arrow fitted\">num</label><div class=\"sk-toggleable__content fitted\"><pre>Index([&#x27;agriculture_structure_indicator&#x27;, &#x27;basement_enclosure_crawlspace_type&#x27;,\n",
       "       &#x27;policy_count&#x27;, &#x27;crs_classification_code&#x27;,\n",
       "       &#x27;elevated_building_indicator&#x27;, &#x27;elevation_difference&#x27;,\n",
       "       &#x27;base_flood_elevation&#x27;, &#x27;house_worship&#x27;, &#x27;location_of_contents&#x27;,\n",
       "       &#x27;lowest_adjacent_grade&#x27;, &#x27;lowest_floor_elevation&#x27;,\n",
       "       &#x27;number_of_floors_in_the_insured_building&#x27;, &#x27;non_profit_indicator&#x27;,\n",
       "       &#x27;obstruction_type&#x27;, &#x27;occupancy_type&#x27;, &#x27;amount_paid_on_building_claim&#x27;,\n",
       "       &#x27;amount_paid_on_contents_claim&#x27;, &#x27;post_f_i_r_m_construction_indicator&#x27;,\n",
       "       &#x27;small_business_indicator_building&#x27;,\n",
       "       &#x27;total_building_insurance_coverage&#x27;,\n",
       "       &#x27;total_contents_insurance_coverage&#x27;, &#x27;year_of_loss&#x27;,\n",
       "       &#x27;primary_residence_indicator&#x27;, &#x27;building_damage_amount&#x27;,\n",
       "       &#x27;net_building_payment_amount&#x27;, &#x27;building_property_value&#x27;,\n",
       "       &#x27;contents_damage_amount&#x27;, &#x27;net_contents_payment_amount&#x27;,\n",
       "       &#x27;contents_property_value&#x27;, &#x27;disaster_assistance_coverage_required&#x27;,\n",
       "       &#x27;flood_characteristics_indicator&#x27;, &#x27;flood_water_duration&#x27;,\n",
       "       &#x27;floodproofed_indicator&#x27;, &#x27;icc_coverage&#x27;, &#x27;net_icc_payment_amount&#x27;,\n",
       "       &#x27;nfip_rated_community_number&#x27;, &#x27;non_payment_reason_contents&#x27;,\n",
       "       &#x27;non_payment_reason_building&#x27;, &#x27;number_of_units&#x27;,\n",
       "       &#x27;building_replacement_cost&#x27;, &#x27;contents_replacement_cost&#x27;,\n",
       "       &#x27;state_owned_indicator&#x27;, &#x27;water_depth&#x27;, &#x27;building_description_code&#x27;,\n",
       "       &#x27;rental_property_indicator&#x27;, &#x27;census_tract&#x27;, &#x27;census_block_group_fips&#x27;,\n",
       "       &#x27;damage_diff_payment&#x27;],\n",
       "      dtype=&#x27;object&#x27;)</pre></div> </div></div><div class=\"sk-serial\"><div class=\"sk-item\"><div class=\"sk-serial\"><div class=\"sk-item\"><div class=\"sk-estimator fitted sk-toggleable\"><input class=\"sk-toggleable__control sk-hidden--visually\" id=\"sk-estimator-id-4\" type=\"checkbox\" ><label for=\"sk-estimator-id-4\" class=\"sk-toggleable__label fitted sk-toggleable__label-arrow fitted\">&nbsp;SimpleImputer<a class=\"sk-estimator-doc-link fitted\" rel=\"noreferrer\" target=\"_blank\" href=\"https://scikit-learn.org/1.4/modules/generated/sklearn.impute.SimpleImputer.html\">?<span>Documentation for SimpleImputer</span></a></label><div class=\"sk-toggleable__content fitted\"><pre>SimpleImputer()</pre></div> </div></div><div class=\"sk-item\"><div class=\"sk-estimator fitted sk-toggleable\"><input class=\"sk-toggleable__control sk-hidden--visually\" id=\"sk-estimator-id-5\" type=\"checkbox\" ><label for=\"sk-estimator-id-5\" class=\"sk-toggleable__label fitted sk-toggleable__label-arrow fitted\">&nbsp;StandardScaler<a class=\"sk-estimator-doc-link fitted\" rel=\"noreferrer\" target=\"_blank\" href=\"https://scikit-learn.org/1.4/modules/generated/sklearn.preprocessing.StandardScaler.html\">?<span>Documentation for StandardScaler</span></a></label><div class=\"sk-toggleable__content fitted\"><pre>StandardScaler()</pre></div> </div></div></div></div></div></div></div><div class=\"sk-parallel-item\"><div class=\"sk-item\"><div class=\"sk-label-container\"><div class=\"sk-label fitted sk-toggleable\"><input class=\"sk-toggleable__control sk-hidden--visually\" id=\"sk-estimator-id-6\" type=\"checkbox\" ><label for=\"sk-estimator-id-6\" class=\"sk-toggleable__label fitted sk-toggleable__label-arrow fitted\">cat</label><div class=\"sk-toggleable__content fitted\"><pre>Index([&#x27;date_of_loss&#x27;, &#x27;elevation_certificate_indicator&#x27;, &#x27;rated_flood_zone&#x27;,\n",
       "       &#x27;original_construction_date&#x27;, &#x27;original_n_b_date&#x27;,\n",
       "       &#x27;building_deductible_code&#x27;, &#x27;cause_of_damage&#x27;,\n",
       "       &#x27;condominium_coverage_type_code&#x27;, &#x27;contents_deductible_code&#x27;,\n",
       "       &#x27;event_designation_number&#x27;, &#x27;flood_event&#x27;,\n",
       "       &#x27;nfip_community_number_current&#x27;, &#x27;nfip_community_name&#x27;,\n",
       "       &#x27;replacement_cost_basis&#x27;, &#x27;flood_zone_current&#x27;, &#x27;state&#x27;, &#x27;county_code&#x27;,\n",
       "       &#x27;county_name&#x27;],\n",
       "      dtype=&#x27;object&#x27;)</pre></div> </div></div><div class=\"sk-serial\"><div class=\"sk-item\"><div class=\"sk-serial\"><div class=\"sk-item\"><div class=\"sk-estimator fitted sk-toggleable\"><input class=\"sk-toggleable__control sk-hidden--visually\" id=\"sk-estimator-id-7\" type=\"checkbox\" ><label for=\"sk-estimator-id-7\" class=\"sk-toggleable__label fitted sk-toggleable__label-arrow fitted\">&nbsp;SimpleImputer<a class=\"sk-estimator-doc-link fitted\" rel=\"noreferrer\" target=\"_blank\" href=\"https://scikit-learn.org/1.4/modules/generated/sklearn.impute.SimpleImputer.html\">?<span>Documentation for SimpleImputer</span></a></label><div class=\"sk-toggleable__content fitted\"><pre>SimpleImputer(strategy=&#x27;most_frequent&#x27;)</pre></div> </div></div><div class=\"sk-item\"><div class=\"sk-estimator fitted sk-toggleable\"><input class=\"sk-toggleable__control sk-hidden--visually\" id=\"sk-estimator-id-8\" type=\"checkbox\" ><label for=\"sk-estimator-id-8\" class=\"sk-toggleable__label fitted sk-toggleable__label-arrow fitted\">&nbsp;OneHotEncoder<a class=\"sk-estimator-doc-link fitted\" rel=\"noreferrer\" target=\"_blank\" href=\"https://scikit-learn.org/1.4/modules/generated/sklearn.preprocessing.OneHotEncoder.html\">?<span>Documentation for OneHotEncoder</span></a></label><div class=\"sk-toggleable__content fitted\"><pre>OneHotEncoder(handle_unknown=&#x27;ignore&#x27;)</pre></div> </div></div></div></div></div></div></div></div></div><div class=\"sk-item\"><div class=\"sk-estimator fitted sk-toggleable\"><input class=\"sk-toggleable__control sk-hidden--visually\" id=\"sk-estimator-id-9\" type=\"checkbox\" ><label for=\"sk-estimator-id-9\" class=\"sk-toggleable__label fitted sk-toggleable__label-arrow fitted\">&nbsp;RandomForestClassifier<a class=\"sk-estimator-doc-link fitted\" rel=\"noreferrer\" target=\"_blank\" href=\"https://scikit-learn.org/1.4/modules/generated/sklearn.ensemble.RandomForestClassifier.html\">?<span>Documentation for RandomForestClassifier</span></a></label><div class=\"sk-toggleable__content fitted\"><pre>RandomForestClassifier(random_state=42)</pre></div> </div></div></div></div></div></div>"
      ],
      "text/plain": [
       "Pipeline(steps=[('preprocessor',\n",
       "                 ColumnTransformer(transformers=[('num',\n",
       "                                                  Pipeline(steps=[('imputer',\n",
       "                                                                   SimpleImputer()),\n",
       "                                                                  ('scaler',\n",
       "                                                                   StandardScaler())]),\n",
       "                                                  Index(['agriculture_structure_indicator', 'basement_enclosure_crawlspace_type',\n",
       "       'policy_count', 'crs_classification_code',\n",
       "       'elevated_building_indicator', 'elevation_difference',\n",
       "       'base_flood_elevation', 'house_wor...\n",
       "       'building_deductible_code', 'cause_of_damage',\n",
       "       'condominium_coverage_type_code', 'contents_deductible_code',\n",
       "       'event_designation_number', 'flood_event',\n",
       "       'nfip_community_number_current', 'nfip_community_name',\n",
       "       'replacement_cost_basis', 'flood_zone_current', 'state', 'county_code',\n",
       "       'county_name'],\n",
       "      dtype='object'))])),\n",
       "                ('classifier', RandomForestClassifier(random_state=42))])"
      ]
     },
     "execution_count": 75,
     "metadata": {},
     "output_type": "execute_result"
    }
   ],
   "source": [
    "# Aaaaaaand let's train the model!\n",
    "\n",
    "model.fit(X_train, y_train)"
   ]
  },
  {
   "cell_type": "code",
   "execution_count": 77,
   "id": "ef8f43d1-7963-49c2-ac50-0bfce8b3a909",
   "metadata": {},
   "outputs": [
    {
     "name": "stderr",
     "output_type": "stream",
     "text": [
      "C:\\Users\\natal\\anaconda3\\Lib\\site-packages\\sklearn\\impute\\_base.py:577: UserWarning: Skipping features without any observed values: ['flood_characteristics_indicator']. At least one non-missing value is needed for imputation with strategy='mean'.\n",
      "  warnings.warn(\n"
     ]
    },
    {
     "name": "stdout",
     "output_type": "stream",
     "text": [
      "Accuracy: 0.9683276059564719\n",
      "\n",
      "Classification Report:\n",
      "               precision    recall  f1-score   support\n",
      "\n",
      "           0       0.97      1.00      0.98     16501\n",
      "           1       0.94      0.45      0.61       959\n",
      "\n",
      "    accuracy                           0.97     17460\n",
      "   macro avg       0.96      0.72      0.80     17460\n",
      "weighted avg       0.97      0.97      0.96     17460\n",
      "\n"
     ]
    }
   ],
   "source": [
    "# That looks kinda nice.\n",
    "\n",
    "# Models work to be judged. Let's evaluate this model!\n",
    "\n",
    "y_pred = model.predict(X_test)\n",
    "print(\"Accuracy:\", accuracy_score(y_test, y_pred))\n",
    "print(\"\\nClassification Report:\\n\", classification_report(y_test, y_pred))"
   ]
  },
  {
   "cell_type": "code",
   "execution_count": 79,
   "id": "814acc4d-dbf1-4c27-a685-62628ffa09c0",
   "metadata": {},
   "outputs": [
    {
     "name": "stderr",
     "output_type": "stream",
     "text": [
      "C:\\Users\\natal\\anaconda3\\Lib\\site-packages\\sklearn\\impute\\_base.py:577: UserWarning: Skipping features without any observed values: ['flood_characteristics_indicator']. At least one non-missing value is needed for imputation with strategy='mean'.\n",
      "  warnings.warn(\n"
     ]
    },
    {
     "name": "stdout",
     "output_type": "stream",
     "text": [
      "Confusion Matrix:\n",
      " [[16475    26]\n",
      " [  527   432]]\n"
     ]
    }
   ],
   "source": [
    "# Mmk, pretty good. Not the most realistic model, like we wouldn't have this data to predict sufficiency of flood insurance coverage.\n",
    "# But it's a good exercise in model generation.\n",
    "\n",
    "# Generate predictions\n",
    "y_pred = model.predict(X_test)\n",
    "\n",
    "# Compute confusion matrix\n",
    "cm = confusion_matrix(y_test, y_pred)\n",
    "print(\"Confusion Matrix:\\n\", cm)"
   ]
  },
  {
   "cell_type": "code",
   "execution_count": 81,
   "id": "15705e61-2135-42dd-a395-08285b4b0ca3",
   "metadata": {},
   "outputs": [
    {
     "data": {
      "image/png": "[encoded data removed]",
      "text/plain": [
       "<Figure size 800x600 with 2 Axes>"
      ]
     },
     "metadata": {},
     "output_type": "display_data"
    }
   ],
   "source": [
    "# Would it really feel like predictive modeling if we didn't create a heatmap of the confusion matrix?\n",
    "\n",
    "plt.figure(figsize = (8, 6))\n",
    "sns.heatmap(cm, annot = True, fmt = 'd', xticklabels = ['Guessed Sufficient Coverage', 'Guessed Insufficient Coverage'], yticklabels = ['Actual Sufficient Coverage', 'Actual Insufficient Coverage'])\n",
    "plt.xlabel('Predicted Labels')\n",
    "plt.ylabel('True Labels')\n",
    "plt.title('Confusion Matrix');"
   ]
  },
  {
   "cell_type": "markdown",
   "id": "be17096d-85ba-4443-98e6-c7a0e0807a4e",
   "metadata": {},
   "source": [
    "#### Interpretation\n",
    "**True Negative (Top-Left):** Correctly predicted negative cases.\n",
    "<br>\n",
    "**False Positive (Top-Right):** Incorrectly predicted positive cases.\n",
    "<br>\n",
    "**False Negative (Bottom-Left):** Incorrectly predicted negative cases.\n",
    "<br>\n",
    "**True Positive (Bottom-Right):** Correctly predicted positive cases."
   ]
  },
  {
   "cell_type": "markdown",
   "id": "7d01581d-9525-41fe-8216-63f1d1067d4b",
   "metadata": {},
   "source": [
    "Based on the model above, we **accurately predicted 432 customers whose coverage is insufficient.** We missed 26 customers whose coverage is insufficient. And we overshot; 527 people's coverage is sufficient whom we predicted would not be.<br>\n",
    "<br>\n",
    "Can't say I'm not a little disappointed in these stats given the unrealistic advantage we had."
   ]
  },
  {
   "cell_type": "code",
   "execution_count": 84,
   "id": "6ee0465a-960a-4a70-ac78-bd5d654dde97",
   "metadata": {},
   "outputs": [
    {
     "name": "stdout",
     "output_type": "stream",
     "text": [
      "Mismatch: 19779 feature names vs. 19778 importances\n"
     ]
    },
    {
     "ename": "ValueError",
     "evalue": "All arrays must be of the same length",
     "output_type": "error",
     "traceback": [
      "\u001b[1;31m---------------------------------------------------------------------------\u001b[0m",
      "\u001b[1;31mValueError\u001b[0m                                Traceback (most recent call last)",
      "Cell \u001b[1;32mIn[84], line 26\u001b[0m\n\u001b[0;32m     24\u001b[0m \u001b[38;5;66;03m# Create a DataFrame for better visualization\u001b[39;00m\n\u001b[0;32m     25\u001b[0m \u001b[38;5;28;01mimport\u001b[39;00m \u001b[38;5;21;01mpandas\u001b[39;00m \u001b[38;5;28;01mas\u001b[39;00m \u001b[38;5;21;01mpd\u001b[39;00m\n\u001b[1;32m---> 26\u001b[0m feature_importances \u001b[38;5;241m=\u001b[39m pd\u001b[38;5;241m.\u001b[39mDataFrame({\n\u001b[0;32m     27\u001b[0m     \u001b[38;5;124m'\u001b[39m\u001b[38;5;124mFeature\u001b[39m\u001b[38;5;124m'\u001b[39m: all_feature_names,\n\u001b[0;32m     28\u001b[0m     \u001b[38;5;124m'\u001b[39m\u001b[38;5;124mImportance\u001b[39m\u001b[38;5;124m'\u001b[39m: importances\n\u001b[0;32m     29\u001b[0m })\u001b[38;5;241m.\u001b[39msort_values(by\u001b[38;5;241m=\u001b[39m\u001b[38;5;124m'\u001b[39m\u001b[38;5;124mImportance\u001b[39m\u001b[38;5;124m'\u001b[39m, ascending\u001b[38;5;241m=\u001b[39m\u001b[38;5;28;01mFalse\u001b[39;00m)\n\u001b[0;32m     31\u001b[0m \u001b[38;5;66;03m# Display the top 10 important features\u001b[39;00m\n\u001b[0;32m     32\u001b[0m \u001b[38;5;28mprint\u001b[39m(feature_importances\u001b[38;5;241m.\u001b[39mhead(\u001b[38;5;241m10\u001b[39m))\n",
      "File \u001b[1;32m~\\anaconda3\\Lib\\site-packages\\pandas\\core\\frame.py:778\u001b[0m, in \u001b[0;36mDataFrame.__init__\u001b[1;34m(self, data, index, columns, dtype, copy)\u001b[0m\n\u001b[0;32m    772\u001b[0m     mgr \u001b[38;5;241m=\u001b[39m \u001b[38;5;28mself\u001b[39m\u001b[38;5;241m.\u001b[39m_init_mgr(\n\u001b[0;32m    773\u001b[0m         data, axes\u001b[38;5;241m=\u001b[39m{\u001b[38;5;124m\"\u001b[39m\u001b[38;5;124mindex\u001b[39m\u001b[38;5;124m\"\u001b[39m: index, \u001b[38;5;124m\"\u001b[39m\u001b[38;5;124mcolumns\u001b[39m\u001b[38;5;124m\"\u001b[39m: columns}, dtype\u001b[38;5;241m=\u001b[39mdtype, copy\u001b[38;5;241m=\u001b[39mcopy\n\u001b[0;32m    774\u001b[0m     )\n\u001b[0;32m    776\u001b[0m \u001b[38;5;28;01melif\u001b[39;00m \u001b[38;5;28misinstance\u001b[39m(data, \u001b[38;5;28mdict\u001b[39m):\n\u001b[0;32m    777\u001b[0m     \u001b[38;5;66;03m# GH#38939 de facto copy defaults to False only in non-dict cases\u001b[39;00m\n\u001b[1;32m--> 778\u001b[0m     mgr \u001b[38;5;241m=\u001b[39m dict_to_mgr(data, index, columns, dtype\u001b[38;5;241m=\u001b[39mdtype, copy\u001b[38;5;241m=\u001b[39mcopy, typ\u001b[38;5;241m=\u001b[39mmanager)\n\u001b[0;32m    779\u001b[0m \u001b[38;5;28;01melif\u001b[39;00m \u001b[38;5;28misinstance\u001b[39m(data, ma\u001b[38;5;241m.\u001b[39mMaskedArray):\n\u001b[0;32m    780\u001b[0m     \u001b[38;5;28;01mfrom\u001b[39;00m \u001b[38;5;21;01mnumpy\u001b[39;00m\u001b[38;5;21;01m.\u001b[39;00m\u001b[38;5;21;01mma\u001b[39;00m \u001b[38;5;28;01mimport\u001b[39;00m mrecords\n",
      "File \u001b[1;32m~\\anaconda3\\Lib\\site-packages\\pandas\\core\\internals\\construction.py:503\u001b[0m, in \u001b[0;36mdict_to_mgr\u001b[1;34m(data, index, columns, dtype, typ, copy)\u001b[0m\n\u001b[0;32m    499\u001b[0m     \u001b[38;5;28;01melse\u001b[39;00m:\n\u001b[0;32m    500\u001b[0m         \u001b[38;5;66;03m# dtype check to exclude e.g. range objects, scalars\u001b[39;00m\n\u001b[0;32m    501\u001b[0m         arrays \u001b[38;5;241m=\u001b[39m [x\u001b[38;5;241m.\u001b[39mcopy() \u001b[38;5;28;01mif\u001b[39;00m \u001b[38;5;28mhasattr\u001b[39m(x, \u001b[38;5;124m\"\u001b[39m\u001b[38;5;124mdtype\u001b[39m\u001b[38;5;124m\"\u001b[39m) \u001b[38;5;28;01melse\u001b[39;00m x \u001b[38;5;28;01mfor\u001b[39;00m x \u001b[38;5;129;01min\u001b[39;00m arrays]\n\u001b[1;32m--> 503\u001b[0m \u001b[38;5;28;01mreturn\u001b[39;00m arrays_to_mgr(arrays, columns, index, dtype\u001b[38;5;241m=\u001b[39mdtype, typ\u001b[38;5;241m=\u001b[39mtyp, consolidate\u001b[38;5;241m=\u001b[39mcopy)\n",
      "File \u001b[1;32m~\\anaconda3\\Lib\\site-packages\\pandas\\core\\internals\\construction.py:114\u001b[0m, in \u001b[0;36marrays_to_mgr\u001b[1;34m(arrays, columns, index, dtype, verify_integrity, typ, consolidate)\u001b[0m\n\u001b[0;32m    111\u001b[0m \u001b[38;5;28;01mif\u001b[39;00m verify_integrity:\n\u001b[0;32m    112\u001b[0m     \u001b[38;5;66;03m# figure out the index, if necessary\u001b[39;00m\n\u001b[0;32m    113\u001b[0m     \u001b[38;5;28;01mif\u001b[39;00m index \u001b[38;5;129;01mis\u001b[39;00m \u001b[38;5;28;01mNone\u001b[39;00m:\n\u001b[1;32m--> 114\u001b[0m         index \u001b[38;5;241m=\u001b[39m _extract_index(arrays)\n\u001b[0;32m    115\u001b[0m     \u001b[38;5;28;01melse\u001b[39;00m:\n\u001b[0;32m    116\u001b[0m         index \u001b[38;5;241m=\u001b[39m ensure_index(index)\n",
      "File \u001b[1;32m~\\anaconda3\\Lib\\site-packages\\pandas\\core\\internals\\construction.py:677\u001b[0m, in \u001b[0;36m_extract_index\u001b[1;34m(data)\u001b[0m\n\u001b[0;32m    675\u001b[0m lengths \u001b[38;5;241m=\u001b[39m \u001b[38;5;28mlist\u001b[39m(\u001b[38;5;28mset\u001b[39m(raw_lengths))\n\u001b[0;32m    676\u001b[0m \u001b[38;5;28;01mif\u001b[39;00m \u001b[38;5;28mlen\u001b[39m(lengths) \u001b[38;5;241m>\u001b[39m \u001b[38;5;241m1\u001b[39m:\n\u001b[1;32m--> 677\u001b[0m     \u001b[38;5;28;01mraise\u001b[39;00m \u001b[38;5;167;01mValueError\u001b[39;00m(\u001b[38;5;124m\"\u001b[39m\u001b[38;5;124mAll arrays must be of the same length\u001b[39m\u001b[38;5;124m\"\u001b[39m)\n\u001b[0;32m    679\u001b[0m \u001b[38;5;28;01mif\u001b[39;00m have_dicts:\n\u001b[0;32m    680\u001b[0m     \u001b[38;5;28;01mraise\u001b[39;00m \u001b[38;5;167;01mValueError\u001b[39;00m(\n\u001b[0;32m    681\u001b[0m         \u001b[38;5;124m\"\u001b[39m\u001b[38;5;124mMixing dicts with non-Series may lead to ambiguous ordering.\u001b[39m\u001b[38;5;124m\"\u001b[39m\n\u001b[0;32m    682\u001b[0m     )\n",
      "\u001b[1;31mValueError\u001b[0m: All arrays must be of the same length"
     ]
    }
   ],
   "source": [
    "# Let's see if we can't display the 10 most important features to our model\n",
    "\n",
    "# Access the RandomForestClassifier from the pipeline\n",
    "rf_model = model.named_steps['classifier']\n",
    "\n",
    "# Get feature importances from the RandomForestClassifier\n",
    "importances = rf_model.feature_importances_\n",
    "\n",
    "# Retrieve feature names from the preprocessor\n",
    "# Numeric features (unaltered except for scaling)\n",
    "numeric_feature_names = numeric_cols\n",
    "\n",
    "# Categorical features (expanded due to one-hot encoding)\n",
    "categorical_feature_names = model.named_steps['preprocessor'] \\\n",
    "    .named_transformers_['cat']['encoder'].get_feature_names_out(categorical_cols)\n",
    "\n",
    "# Combine all feature names\n",
    "all_feature_names = list(numeric_feature_names) + list(categorical_feature_names)\n",
    "\n",
    "# Ensure lengths match\n",
    "if len(all_feature_names) != len(importances):\n",
    "    print(f\"Mismatch: {len(all_feature_names)} feature names vs. {len(importances)} importances\")\n",
    "\n",
    "# Create a DataFrame for better visualization\n",
    "import pandas as pd\n",
    "feature_importances = pd.DataFrame({\n",
    "    'Feature': all_feature_names,\n",
    "    'Importance': importances\n",
    "}).sort_values(by='Importance', ascending=False)\n",
    "\n",
    "# Display the top 10 important features\n",
    "print(feature_importances.head(10))"
   ]
  },
  {
   "cell_type": "code",
   "execution_count": 86,
   "id": "08097bd3-5d33-4450-80b8-23f14b3e4729",
   "metadata": {},
   "outputs": [
    {
     "data": {
      "text/plain": [
       "19778"
      ]
     },
     "execution_count": 86,
     "metadata": {},
     "output_type": "execute_result"
    }
   ],
   "source": [
    "# LOL ok how long is my importances list\n",
    "\n",
    "len(importances)"
   ]
  },
  {
   "cell_type": "code",
   "execution_count": 88,
   "id": "3a207034-456f-43db-a8a1-354cca014188",
   "metadata": {},
   "outputs": [
    {
     "data": {
      "text/plain": [
       "19779"
      ]
     },
     "execution_count": 88,
     "metadata": {},
     "output_type": "execute_result"
    }
   ],
   "source": [
    "# And all_feature_names ?\n",
    "\n",
    "len(all_feature_names)"
   ]
  },
  {
   "cell_type": "code",
   "execution_count": 90,
   "id": "8275d4b3-354a-4184-9bbe-2480807e7131",
   "metadata": {},
   "outputs": [
    {
     "name": "stderr",
     "output_type": "stream",
     "text": [
      "C:\\Users\\natal\\anaconda3\\Lib\\site-packages\\sklearn\\impute\\_base.py:577: UserWarning: Skipping features without any observed values: ['flood_characteristics_indicator']. At least one non-missing value is needed for imputation with strategy='mean'.\n",
      "  warnings.warn(\n"
     ]
    },
    {
     "name": "stdout",
     "output_type": "stream",
     "text": [
      "Shape of preprocessed data: (69838, 19778)\n"
     ]
    }
   ],
   "source": [
    "# Let's transform X_train to inspect preprocessed data\n",
    "\n",
    "X_transformed = model.named_steps['preprocessor'].transform(X_train)\n",
    "\n",
    "# Check the shape of the transformed data\n",
    "print(f\"Shape of preprocessed data: {X_transformed.shape}\")  # Should match len(importances)"
   ]
  },
  {
   "cell_type": "code",
   "execution_count": 92,
   "id": "357c18bf-f322-4fce-a6f9-69b3856ffaf4",
   "metadata": {},
   "outputs": [
    {
     "name": "stdout",
     "output_type": "stream",
     "text": [
      "Total feature names: 19779\n"
     ]
    }
   ],
   "source": [
    "# And get numeric and categorical feature names\n",
    "\n",
    "numeric_feature_names = numeric_cols\n",
    "categorical_feature_names = model.named_steps['preprocessor'] \\\n",
    "    .named_transformers_['cat']['encoder'].get_feature_names_out(categorical_cols)\n",
    "\n",
    "# Combine names and check length\n",
    "all_feature_names = list(numeric_feature_names) + list(categorical_feature_names)\n",
    "print(f\"Total feature names: {len(all_feature_names)}\")"
   ]
  },
  {
   "cell_type": "code",
   "execution_count": 94,
   "id": "b1781f88-5224-4f9c-98ae-08d13382c8f2",
   "metadata": {},
   "outputs": [
    {
     "name": "stdout",
     "output_type": "stream",
     "text": [
      "                              Feature  Importance\n",
      "46            census_block_group_fips    0.098318\n",
      "23             building_damage_amount    0.055507\n",
      "26             contents_damage_amount    0.047566\n",
      "15      amount_paid_on_building_claim    0.045897\n",
      "24        net_building_payment_amount    0.043986\n",
      "19  total_building_insurance_coverage    0.039143\n",
      "16      amount_paid_on_contents_claim    0.032341\n",
      "27        net_contents_payment_amount    0.031746\n",
      "25            building_property_value    0.021446\n",
      "20  total_contents_insurance_coverage    0.020710\n"
     ]
    }
   ],
   "source": [
    "# Now align the lengths by truncating feature names\n",
    "\n",
    "# Side note, why do if statements still make me sweat like I'm going to throw an error?\n",
    "# Who cares! Throw an error! Read it and learn!\n",
    "\n",
    "if len(all_feature_names) > len(importances):\n",
    "    all_feature_names = all_feature_names[:len(importances)]\n",
    "\n",
    "# Create DataFrame for feature importances\n",
    "import pandas as pd\n",
    "feature_importances = pd.DataFrame({\n",
    "    'Feature': all_feature_names,\n",
    "    'Importance': importances\n",
    "}).sort_values(by='Importance', ascending=False)\n",
    "\n",
    "# Display the top 10 features\n",
    "print(feature_importances.head(10))"
   ]
  },
  {
   "cell_type": "code",
   "execution_count": 96,
   "id": "2aaf6247-9395-4daf-9567-b9954e40ad39",
   "metadata": {},
   "outputs": [
    {
     "data": {
      "text/plain": [
       "19778"
      ]
     },
     "execution_count": 96,
     "metadata": {},
     "output_type": "execute_result"
    }
   ],
   "source": [
    "# Interesting that census_block_group_fips is up there! You'd expect location to correlate with damage, but not necessarily with insufficient coverage.\n",
    "# On the other hand, I remember from running this earlier that Lee County suffered such a disproportionate amount of damage, it's not surprising\n",
    "# they'd also have more insufficient coverage just by virtue of exponentially more claims than other counties.\n",
    "\n",
    "# Okay, back on track. What's the length of all_feature_names ?\n",
    "len(all_feature_names)"
   ]
  },
  {
   "cell_type": "markdown",
   "id": "63facf62-16c4-4931-9e43-ae37260f0c9a",
   "metadata": {},
   "source": [
    "### Rerun Model After Debugging"
   ]
  },
  {
   "cell_type": "code",
   "execution_count": 98,
   "id": "ef00be01-2345-4b9d-b5f2-cf8a2ea504e3",
   "metadata": {},
   "outputs": [
    {
     "name": "stdout",
     "output_type": "stream",
     "text": [
      "Top 10 Features by Importance:\n",
      "                              Feature  Importance\n",
      "46            census_block_group_fips    0.098318\n",
      "23             building_damage_amount    0.055507\n",
      "26             contents_damage_amount    0.047566\n",
      "15      amount_paid_on_building_claim    0.045897\n",
      "24        net_building_payment_amount    0.043986\n",
      "19  total_building_insurance_coverage    0.039143\n",
      "16      amount_paid_on_contents_claim    0.032341\n",
      "27        net_contents_payment_amount    0.031746\n",
      "25            building_property_value    0.021446\n",
      "20  total_contents_insurance_coverage    0.020710\n"
     ]
    }
   ],
   "source": [
    "# Create a DataFrame for feature importances\n",
    "\n",
    "feature_importances = pd.DataFrame({\n",
    "    'Feature': all_feature_names,\n",
    "    'Importance': importances\n",
    "}).sort_values(by='Importance', ascending = False)\n",
    "\n",
    "# Display the top 10 important features\n",
    "print(\"Top 10 Features by Importance:\")\n",
    "print(feature_importances.head(10))"
   ]
  },
  {
   "cell_type": "code",
   "execution_count": 100,
   "id": "b0dd3ba0-184d-47ee-90ad-d8753758a095",
   "metadata": {},
   "outputs": [
    {
     "data": {
      "text/plain": [
       "<Figure size 1000x600 with 0 Axes>"
      ]
     },
     "metadata": {},
     "output_type": "display_data"
    },
    {
     "data": {
      "image/png": "[encoded data removed]",
      "text/plain": [
       "<Figure size 640x480 with 1 Axes>"
      ]
     },
     "metadata": {},
     "output_type": "display_data"
    }
   ],
   "source": [
    "# Plot the top 10 features\n",
    "top_n = 10\n",
    "plt.figure(figsize=(10, 6))\n",
    "feature_importances.head(top_n).plot(kind = 'barh', x  ='Feature', y = 'Importance', legend = False, color = 'orange')\n",
    "plt.gca().invert_yaxis()  # Highest importance on top\n",
    "plt.xlabel('Feature Importance')\n",
    "plt.ylabel('Feature')\n",
    "plt.title(f'Top {top_n} Features Contributing to Predictions')\n",
    "plt.tight_layout();"
   ]
  },
  {
   "cell_type": "code",
   "execution_count": 102,
   "id": "3ea0158d-5d27-4851-abd7-21f8e83a81cb",
   "metadata": {},
   "outputs": [
    {
     "data": {
      "text/plain": [
       "(87298, 71)"
      ]
     },
     "execution_count": 102,
     "metadata": {},
     "output_type": "execute_result"
    }
   ],
   "source": [
    "nfip.shape"
   ]
  },
  {
   "cell_type": "code",
   "execution_count": 104,
   "id": "3106cfab-53b0-48d9-af93-f4359c89b0c4",
   "metadata": {},
   "outputs": [
    {
     "data": {
      "text/plain": [
       "(87298, 61)"
      ]
     },
     "execution_count": 104,
     "metadata": {},
     "output_type": "execute_result"
    }
   ],
   "source": [
    "# I'm gonna be reckless and drop columns with >50% missing values. That can't help me predict things.\n",
    "\n",
    "nfip = nfip.drop(columns = nfip.columns[nfip.isna().mean() > 0.5])\n",
    "nfip.shape"
   ]
  },
  {
   "cell_type": "code",
   "execution_count": 108,
   "id": "3cc7bf55-b4fc-4325-abee-c12457c03dd5",
   "metadata": {},
   "outputs": [
    {
     "data": {
      "text/plain": [
       "agriculture_structure_indicator           0\n",
       "basement_enclosure_crawlspace_type    40740\n",
       "policy_count                              0\n",
       "crs_classification_code                2034\n",
       "date_of_loss                              0\n",
       "                                      ...  \n",
       "total_coverage                            0\n",
       "total_payment                             0\n",
       "damage_diff_payment                       0\n",
       "damage_diff_coverage                      0\n",
       "coverage_insufficient                     0\n",
       "Length: 61, dtype: int64"
      ]
     },
     "execution_count": 108,
     "metadata": {},
     "output_type": "execute_result"
    }
   ],
   "source": [
    "# I guess it wasn't THAT reckless.\n",
    "# Maybe I need to check for nulls. \n",
    "\n",
    "nfip.isnull().sum()"
   ]
  },
  {
   "cell_type": "code",
   "execution_count": 110,
   "id": "5682fad3-2a24-4c4f-a678-e58debe457d4",
   "metadata": {},
   "outputs": [
    {
     "data": {
      "text/plain": [
       "(4795, 61)"
      ]
     },
     "execution_count": 110,
     "metadata": {},
     "output_type": "execute_result"
    }
   ],
   "source": [
    "# Now let's define what the at-risk subset is.\n",
    "atrisk = nfip[nfip['coverage_insufficient'] > 0]\n",
    "atrisk.shape"
   ]
  },
  {
   "cell_type": "code",
   "execution_count": 112,
   "id": "bbe836e7-5ff3-4b1f-b8ff-c693e29ebde7",
   "metadata": {},
   "outputs": [
    {
     "name": "stdout",
     "output_type": "stream",
     "text": [
      "Top 10 Census Block Groups Associated with Insufficient Coverage:\n",
      "   census_block_group_fips  count\n",
      "0             1.200500e+11     72\n",
      "1             1.207106e+11     54\n",
      "2             1.207108e+11     52\n",
      "3             1.207100e+11     51\n",
      "4             1.207106e+11     50\n",
      "5             1.207108e+11     48\n",
      "6             1.207106e+11     46\n",
      "7             1.207108e+11     45\n",
      "8             1.207106e+11     41\n",
      "9             1.207105e+11     40\n"
     ]
    }
   ],
   "source": [
    "# Count occurrences of each census_block_group_fips\n",
    "fips_counts = atrisk['census_block_group_fips'].value_counts()\n",
    "\n",
    "# Convert to DataFrame for easier analysis\n",
    "fips_analysis = fips_counts.reset_index()\n",
    "fips_analysis.columns = ['census_block_group_fips', 'count']\n",
    "\n",
    "# Display the top 10 block groups\n",
    "print(\"Top 10 Census Block Groups Associated with Insufficient Coverage:\")\n",
    "print(fips_analysis.head(10))"
   ]
  },
  {
   "cell_type": "code",
   "execution_count": 172,
   "id": "95099652-1766-4f0c-885e-5ba393e3eff3",
   "metadata": {},
   "outputs": [
    {
     "data": {
      "image/png": "[encoded data removed]",
      "text/plain": [
       "<Figure size 1000x600 with 1 Axes>"
      ]
     },
     "metadata": {},
     "output_type": "display_data"
    }
   ],
   "source": [
    "top_n = 10\n",
    "top_fips = fips_analysis.head(top_n)\n",
    "\n",
    "# Create a bar plot\n",
    "plt.figure(figsize=(10, 6))\n",
    "plt.barh(top_fips['census_block_group_fips'], top_fips['count'], color = 'blue')\n",
    "plt.gca().invert_yaxis()  # Highest count on top\n",
    "plt.xlabel('Number of Claims with Insufficient Coverage')\n",
    "plt.ylabel('Census Block Group FIPS')\n",
    "plt.title(f'Top {top_n} Census Block Groups with Insufficient Coverage')\n",
    "plt.tight_layout()\n",
    "plt.show()"
   ]
  },
  {
   "cell_type": "code",
   "execution_count": 116,
   "id": "a3be44b6-3a4b-43f7-aa38-5f9ab82aa194",
   "metadata": {},
   "outputs": [],
   "source": [
    "atrisk.to_csv('nfip_FL_at_risk_2025.02.04.csv', index = True)"
   ]
  },
  {
   "cell_type": "code",
   "execution_count": 114,
   "id": "54a6eff9-90bb-463d-8b0a-87cc13ed0436",
   "metadata": {},
   "outputs": [],
   "source": [
    "# Gosh I love a blue horizontal bar graph. And 12071 is Lee County, no surprise there.\n",
    "\n",
    "# Let's save the nfip dataset AND the atrisk one and move into Tableau.\n",
    "# I forgot last time; I actually need an index in this dataset.\n",
    "\n",
    "nfip.to_csv('nfip_florida_2025.02.04.csv', index = True)"
   ]
  },
  {
   "cell_type": "code",
   "execution_count": null,
   "id": "5e6d4987-af5d-425a-8166-347bb3d4c0b6",
   "metadata": {},
   "outputs": [],
   "source": []
  }
 ],
 "metadata": {
  "kernelspec": {
   "display_name": "Python 3 (ipykernel)",
   "language": "python",
   "name": "python3"
  },
  "language_info": {
   "codemirror_mode": {
    "name": "ipython",
    "version": 3
   },
   "file_extension": ".py",
   "mimetype": "text/x-python",
   "name": "python",
   "nbconvert_exporter": "python",
   "pygments_lexer": "ipython3",
   "version": "3.12.4"
  }
 },
 "nbformat": 4,
 "nbformat_minor": 5
}
